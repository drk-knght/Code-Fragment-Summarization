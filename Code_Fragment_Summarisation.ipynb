{
  "cells": [
    {
      "cell_type": "code",
      "execution_count": null,
      "metadata": {
        "id": "YxZJ5XP_VOMd"
      },
      "outputs": [],
      "source": [
        "import numpy as np\n",
        "import pandas as pd\n",
        "import matplotlib.pyplot as plt\n",
        "import tensorflow as tf"
      ]
    },
    {
      "cell_type": "code",
      "execution_count": null,
      "metadata": {
        "id": "dR83d3ELbnMb"
      },
      "outputs": [],
      "source": [
        "from sklearn.metrics import accuracy_score\n",
        "from sklearn.metrics import precision_score\n",
        "from sklearn.metrics import recall_score\n",
        "from sklearn.metrics import f1_score\n",
        "from sklearn.svm import SVC\n",
        "from sklearn.metrics import classification_report, confusion_matrix\n",
        "from sklearn.linear_model import LogisticRegression\n",
        "from sklearn.ensemble import RandomForestClassifier\n",
        "from sklearn.tree import DecisionTreeClassifier \n",
        "from sklearn.naive_bayes import GaussianNB\n",
        "from sklearn.neighbors import KNeighborsClassifier\n",
        "from sklearn.feature_selection import SequentialFeatureSelector as sfs"
      ]
    },
    {
      "cell_type": "code",
      "execution_count": null,
      "metadata": {
        "colab": {
          "base_uri": "https://localhost:8080/"
        },
        "id": "GTOuanVSVRIp",
        "outputId": "8c423dfb-be0a-42ac-fa59-a205b8f0f976"
      },
      "outputs": [
        {
          "output_type": "stream",
          "name": "stdout",
          "text": [
            "Mounted at /content/gdrive\n"
          ]
        }
      ],
      "source": [
        "from google.colab import drive\n",
        "drive.mount('/content/gdrive')"
      ]
    },
    {
      "cell_type": "markdown",
      "metadata": {
        "id": "sR-e4Iu2XNx8"
      },
      "source": [
        "# Data Loading and Dataframe"
      ]
    },
    {
      "cell_type": "code",
      "execution_count": null,
      "metadata": {
        "id": "TStZpna_VSk4"
      },
      "outputs": [],
      "source": [
        "train_list=[]\n",
        "testing_list=[]\n",
        "column_header=['label','feature 1','feature 2','feature 3','feature 4','feature 5','feature 6','feature 7','feature 8','feature 9','feature 10','feature 11','feature 12','feature 13','feature 14','feature 15','feature 16','feature 17','feature 18','feature 19']"
      ]
    },
    {
      "cell_type": "code",
      "execution_count": null,
      "metadata": {
        "id": "C6Ub5Z04VY-D"
      },
      "outputs": [],
      "source": [
        "for i in range(1,128):\n",
        "  str=f'/content/gdrive/MyDrive/Code Fragment Summarisation/train/train{i}.txt'\n",
        "  with open(str,'r') as f:\n",
        "    for line in f:\n",
        "          for word in line.split():\n",
        "              train_list.append(float(word))\n",
        "no_of_cols=20\n",
        "no_of_rows=len(train_list)\n",
        "training_data=np.array(train_list)"
      ]
    },
    {
      "cell_type": "code",
      "execution_count": null,
      "metadata": {
        "id": "jh_7A5cSVezx"
      },
      "outputs": [],
      "source": [
        "for i in range(1,128):\n",
        "  str=f'/content/gdrive/MyDrive/Code Fragment Summarisation/test/test{i}.txt'\n",
        "  with open(str,'r') as f:\n",
        "    for line in f:\n",
        "          for word in line.split():\n",
        "              testing_list.append(float(word))\n",
        "no_of_cols=20\n",
        "no_of_rows=len(testing_list)\n",
        "testing_data=np.array(testing_list)"
      ]
    },
    {
      "cell_type": "code",
      "execution_count": null,
      "metadata": {
        "colab": {
          "base_uri": "https://localhost:8080/"
        },
        "id": "ZMt_igGKVfPl",
        "outputId": "af105c63-65d6-43a0-86ca-db31de55d9a3"
      },
      "outputs": [
        {
          "output_type": "execute_result",
          "data": {
            "text/plain": [
              "array([1., 1., 0., ..., 1., 0., 0.])"
            ]
          },
          "metadata": {},
          "execution_count": 7
        }
      ],
      "source": [
        "training_data"
      ]
    },
    {
      "cell_type": "code",
      "execution_count": null,
      "metadata": {
        "colab": {
          "base_uri": "https://localhost:8080/"
        },
        "id": "2ojrdArLVg-5",
        "outputId": "6ddc9d13-cde2-4360-bce1-f473e114ea60"
      },
      "outputs": [
        {
          "output_type": "execute_result",
          "data": {
            "text/plain": [
              "array([0., 0., 0., ..., 1., 0., 0.])"
            ]
          },
          "metadata": {},
          "execution_count": 8
        }
      ],
      "source": [
        "testing_data"
      ]
    },
    {
      "cell_type": "code",
      "execution_count": null,
      "metadata": {
        "colab": {
          "base_uri": "https://localhost:8080/"
        },
        "id": "Y4ra4DiFViQH",
        "outputId": "de96e977-bd58-48d8-d6e8-9a665751f614"
      },
      "outputs": [
        {
          "output_type": "execute_result",
          "data": {
            "text/plain": [
              "5334840"
            ]
          },
          "metadata": {},
          "execution_count": 9
        }
      ],
      "source": [
        "training_data.size"
      ]
    },
    {
      "cell_type": "code",
      "execution_count": null,
      "metadata": {
        "colab": {
          "base_uri": "https://localhost:8080/"
        },
        "id": "Jzcsyl7uVj9l",
        "outputId": "be00922c-a4b9-439a-9f5e-b01938ee3cf0"
      },
      "outputs": [
        {
          "output_type": "execute_result",
          "data": {
            "text/plain": [
              "42340"
            ]
          },
          "metadata": {},
          "execution_count": 10
        }
      ],
      "source": [
        "testing_data.size"
      ]
    },
    {
      "cell_type": "code",
      "execution_count": null,
      "metadata": {
        "id": "NaTv0VdHVlnu"
      },
      "outputs": [],
      "source": [
        "#TRAINING DATA\n",
        "\n",
        "total_elements=training_data.size\n",
        "no_of_cols=20\n",
        "no_of_rows=int(total_elements/no_of_cols)\n",
        "# print(no_of_rows)\n",
        "training_data=training_data.reshape((no_of_rows,no_of_cols))\n",
        "\n",
        "\n",
        "#TESTING DATA\n",
        "total_elements=testing_data.size\n",
        "no_of_cols=20\n",
        "no_of_rows=int(total_elements/no_of_cols)\n",
        "# print(no_of_rows)\n",
        "testing_data=testing_data.reshape((no_of_rows,no_of_cols))"
      ]
    },
    {
      "cell_type": "code",
      "execution_count": null,
      "metadata": {
        "colab": {
          "base_uri": "https://localhost:8080/"
        },
        "id": "vXBY37b_VnMj",
        "outputId": "1b232063-be6f-41fa-9187-d34ada78f40e"
      },
      "outputs": [
        {
          "output_type": "execute_result",
          "data": {
            "text/plain": [
              "array([[0.        , 0.        , 0.        , ..., 0.03846154, 0.        ,\n",
              "        0.        ],\n",
              "       [1.        , 1.        , 0.        , ..., 0.07692308, 0.        ,\n",
              "        1.        ],\n",
              "       [1.        , 0.        , 0.        , ..., 0.1153846 , 0.        ,\n",
              "        0.        ],\n",
              "       ...,\n",
              "       [1.        , 0.        , 0.        , ..., 0.75      , 0.        ,\n",
              "        0.        ],\n",
              "       [0.        , 0.        , 0.        , ..., 0.875     , 0.        ,\n",
              "        0.        ],\n",
              "       [0.        , 0.        , 0.        , ..., 1.        , 0.        ,\n",
              "        0.        ]])"
            ]
          },
          "metadata": {},
          "execution_count": 12
        }
      ],
      "source": [
        "testing_data"
      ]
    },
    {
      "cell_type": "code",
      "execution_count": null,
      "metadata": {
        "colab": {
          "base_uri": "https://localhost:8080/"
        },
        "id": "VsHUf8X0VpDO",
        "outputId": "d1c3b363-90bf-4690-99fe-16ca7dadad06"
      },
      "outputs": [
        {
          "output_type": "execute_result",
          "data": {
            "text/plain": [
              "array([[1.        , 1.        , 0.        , ..., 0.02564103, 0.        ,\n",
              "        1.        ],\n",
              "       [0.        , 0.        , 0.        , ..., 0.05128205, 0.        ,\n",
              "        0.        ],\n",
              "       [0.        , 0.        , 0.        , ..., 0.07692308, 0.        ,\n",
              "        0.        ],\n",
              "       ...,\n",
              "       [1.        , 0.        , 0.        , ..., 0.75      , 0.        ,\n",
              "        1.        ],\n",
              "       [1.        , 0.        , 0.        , ..., 0.875     , 0.        ,\n",
              "        0.        ],\n",
              "       [0.        , 0.        , 0.        , ..., 1.        , 0.        ,\n",
              "        0.        ]])"
            ]
          },
          "metadata": {},
          "execution_count": 13
        }
      ],
      "source": [
        "training_data"
      ]
    },
    {
      "cell_type": "code",
      "execution_count": null,
      "metadata": {
        "id": "38giWTmqVqZ9"
      },
      "outputs": [],
      "source": [
        "df_test=pd.DataFrame(testing_data,columns=column_header)"
      ]
    },
    {
      "cell_type": "code",
      "execution_count": null,
      "metadata": {
        "id": "VqLtt85FVsg8"
      },
      "outputs": [],
      "source": [
        "df_train=pd.DataFrame(training_data,columns=column_header)"
      ]
    },
    {
      "cell_type": "code",
      "execution_count": null,
      "metadata": {
        "colab": {
          "base_uri": "https://localhost:8080/",
          "height": 267
        },
        "id": "0PGjxtTiVvDH",
        "outputId": "fb8695be-a544-40ca-8c5e-6bd2b335c491"
      },
      "outputs": [
        {
          "output_type": "execute_result",
          "data": {
            "text/plain": [
              "   label  feature 1  feature 2  feature 3  feature 4  feature 5  feature 6  \\\n",
              "0    0.0        0.0        0.0        0.0        0.0        0.0        0.0   \n",
              "1    1.0        1.0        0.0        0.0        0.0        0.0        0.0   \n",
              "2    1.0        0.0        0.0        0.0        0.0        0.0        0.0   \n",
              "3    1.0        0.0        0.0        1.0        0.0        0.0        0.0   \n",
              "4    1.0        0.0        1.0        0.0        0.0        0.0        0.0   \n",
              "\n",
              "   feature 7  feature 8  feature 9  feature 10  feature 11  feature 12  \\\n",
              "0        1.0        0.0        0.0         1.0         1.0         0.0   \n",
              "1        0.0        0.0        0.0         0.0         0.0         0.0   \n",
              "2        0.0        0.0        0.0         0.0         0.0         0.0   \n",
              "3        0.0        0.0        0.0         0.0         0.0         0.0   \n",
              "4        0.0        0.0        0.0         0.0         0.0         0.0   \n",
              "\n",
              "   feature 13  feature 14  feature 15  feature 16  feature 17  feature 18  \\\n",
              "0         0.0         1.0        42.0         0.0    0.038462         0.0   \n",
              "1         0.0         0.0        58.0         0.0    0.076923         0.0   \n",
              "2         0.0         0.0        44.0         0.0    0.115385         0.0   \n",
              "3         1.0         0.0        30.0         0.0    0.153846         1.0   \n",
              "4         0.0         0.0        43.0         0.0    0.192308         0.0   \n",
              "\n",
              "   feature 19  \n",
              "0         0.0  \n",
              "1         1.0  \n",
              "2         0.0  \n",
              "3         1.0  \n",
              "4         0.0  "
            ],
            "text/html": [
              "\n",
              "  <div id=\"df-5a879515-89f5-4b6c-93b3-acb95781b24c\">\n",
              "    <div class=\"colab-df-container\">\n",
              "      <div>\n",
              "<style scoped>\n",
              "    .dataframe tbody tr th:only-of-type {\n",
              "        vertical-align: middle;\n",
              "    }\n",
              "\n",
              "    .dataframe tbody tr th {\n",
              "        vertical-align: top;\n",
              "    }\n",
              "\n",
              "    .dataframe thead th {\n",
              "        text-align: right;\n",
              "    }\n",
              "</style>\n",
              "<table border=\"1\" class=\"dataframe\">\n",
              "  <thead>\n",
              "    <tr style=\"text-align: right;\">\n",
              "      <th></th>\n",
              "      <th>label</th>\n",
              "      <th>feature 1</th>\n",
              "      <th>feature 2</th>\n",
              "      <th>feature 3</th>\n",
              "      <th>feature 4</th>\n",
              "      <th>feature 5</th>\n",
              "      <th>feature 6</th>\n",
              "      <th>feature 7</th>\n",
              "      <th>feature 8</th>\n",
              "      <th>feature 9</th>\n",
              "      <th>feature 10</th>\n",
              "      <th>feature 11</th>\n",
              "      <th>feature 12</th>\n",
              "      <th>feature 13</th>\n",
              "      <th>feature 14</th>\n",
              "      <th>feature 15</th>\n",
              "      <th>feature 16</th>\n",
              "      <th>feature 17</th>\n",
              "      <th>feature 18</th>\n",
              "      <th>feature 19</th>\n",
              "    </tr>\n",
              "  </thead>\n",
              "  <tbody>\n",
              "    <tr>\n",
              "      <th>0</th>\n",
              "      <td>0.0</td>\n",
              "      <td>0.0</td>\n",
              "      <td>0.0</td>\n",
              "      <td>0.0</td>\n",
              "      <td>0.0</td>\n",
              "      <td>0.0</td>\n",
              "      <td>0.0</td>\n",
              "      <td>1.0</td>\n",
              "      <td>0.0</td>\n",
              "      <td>0.0</td>\n",
              "      <td>1.0</td>\n",
              "      <td>1.0</td>\n",
              "      <td>0.0</td>\n",
              "      <td>0.0</td>\n",
              "      <td>1.0</td>\n",
              "      <td>42.0</td>\n",
              "      <td>0.0</td>\n",
              "      <td>0.038462</td>\n",
              "      <td>0.0</td>\n",
              "      <td>0.0</td>\n",
              "    </tr>\n",
              "    <tr>\n",
              "      <th>1</th>\n",
              "      <td>1.0</td>\n",
              "      <td>1.0</td>\n",
              "      <td>0.0</td>\n",
              "      <td>0.0</td>\n",
              "      <td>0.0</td>\n",
              "      <td>0.0</td>\n",
              "      <td>0.0</td>\n",
              "      <td>0.0</td>\n",
              "      <td>0.0</td>\n",
              "      <td>0.0</td>\n",
              "      <td>0.0</td>\n",
              "      <td>0.0</td>\n",
              "      <td>0.0</td>\n",
              "      <td>0.0</td>\n",
              "      <td>0.0</td>\n",
              "      <td>58.0</td>\n",
              "      <td>0.0</td>\n",
              "      <td>0.076923</td>\n",
              "      <td>0.0</td>\n",
              "      <td>1.0</td>\n",
              "    </tr>\n",
              "    <tr>\n",
              "      <th>2</th>\n",
              "      <td>1.0</td>\n",
              "      <td>0.0</td>\n",
              "      <td>0.0</td>\n",
              "      <td>0.0</td>\n",
              "      <td>0.0</td>\n",
              "      <td>0.0</td>\n",
              "      <td>0.0</td>\n",
              "      <td>0.0</td>\n",
              "      <td>0.0</td>\n",
              "      <td>0.0</td>\n",
              "      <td>0.0</td>\n",
              "      <td>0.0</td>\n",
              "      <td>0.0</td>\n",
              "      <td>0.0</td>\n",
              "      <td>0.0</td>\n",
              "      <td>44.0</td>\n",
              "      <td>0.0</td>\n",
              "      <td>0.115385</td>\n",
              "      <td>0.0</td>\n",
              "      <td>0.0</td>\n",
              "    </tr>\n",
              "    <tr>\n",
              "      <th>3</th>\n",
              "      <td>1.0</td>\n",
              "      <td>0.0</td>\n",
              "      <td>0.0</td>\n",
              "      <td>1.0</td>\n",
              "      <td>0.0</td>\n",
              "      <td>0.0</td>\n",
              "      <td>0.0</td>\n",
              "      <td>0.0</td>\n",
              "      <td>0.0</td>\n",
              "      <td>0.0</td>\n",
              "      <td>0.0</td>\n",
              "      <td>0.0</td>\n",
              "      <td>0.0</td>\n",
              "      <td>1.0</td>\n",
              "      <td>0.0</td>\n",
              "      <td>30.0</td>\n",
              "      <td>0.0</td>\n",
              "      <td>0.153846</td>\n",
              "      <td>1.0</td>\n",
              "      <td>1.0</td>\n",
              "    </tr>\n",
              "    <tr>\n",
              "      <th>4</th>\n",
              "      <td>1.0</td>\n",
              "      <td>0.0</td>\n",
              "      <td>1.0</td>\n",
              "      <td>0.0</td>\n",
              "      <td>0.0</td>\n",
              "      <td>0.0</td>\n",
              "      <td>0.0</td>\n",
              "      <td>0.0</td>\n",
              "      <td>0.0</td>\n",
              "      <td>0.0</td>\n",
              "      <td>0.0</td>\n",
              "      <td>0.0</td>\n",
              "      <td>0.0</td>\n",
              "      <td>0.0</td>\n",
              "      <td>0.0</td>\n",
              "      <td>43.0</td>\n",
              "      <td>0.0</td>\n",
              "      <td>0.192308</td>\n",
              "      <td>0.0</td>\n",
              "      <td>0.0</td>\n",
              "    </tr>\n",
              "  </tbody>\n",
              "</table>\n",
              "</div>\n",
              "      <button class=\"colab-df-convert\" onclick=\"convertToInteractive('df-5a879515-89f5-4b6c-93b3-acb95781b24c')\"\n",
              "              title=\"Convert this dataframe to an interactive table.\"\n",
              "              style=\"display:none;\">\n",
              "        \n",
              "  <svg xmlns=\"http://www.w3.org/2000/svg\" height=\"24px\"viewBox=\"0 0 24 24\"\n",
              "       width=\"24px\">\n",
              "    <path d=\"M0 0h24v24H0V0z\" fill=\"none\"/>\n",
              "    <path d=\"M18.56 5.44l.94 2.06.94-2.06 2.06-.94-2.06-.94-.94-2.06-.94 2.06-2.06.94zm-11 1L8.5 8.5l.94-2.06 2.06-.94-2.06-.94L8.5 2.5l-.94 2.06-2.06.94zm10 10l.94 2.06.94-2.06 2.06-.94-2.06-.94-.94-2.06-.94 2.06-2.06.94z\"/><path d=\"M17.41 7.96l-1.37-1.37c-.4-.4-.92-.59-1.43-.59-.52 0-1.04.2-1.43.59L10.3 9.45l-7.72 7.72c-.78.78-.78 2.05 0 2.83L4 21.41c.39.39.9.59 1.41.59.51 0 1.02-.2 1.41-.59l7.78-7.78 2.81-2.81c.8-.78.8-2.07 0-2.86zM5.41 20L4 18.59l7.72-7.72 1.47 1.35L5.41 20z\"/>\n",
              "  </svg>\n",
              "      </button>\n",
              "      \n",
              "  <style>\n",
              "    .colab-df-container {\n",
              "      display:flex;\n",
              "      flex-wrap:wrap;\n",
              "      gap: 12px;\n",
              "    }\n",
              "\n",
              "    .colab-df-convert {\n",
              "      background-color: #E8F0FE;\n",
              "      border: none;\n",
              "      border-radius: 50%;\n",
              "      cursor: pointer;\n",
              "      display: none;\n",
              "      fill: #1967D2;\n",
              "      height: 32px;\n",
              "      padding: 0 0 0 0;\n",
              "      width: 32px;\n",
              "    }\n",
              "\n",
              "    .colab-df-convert:hover {\n",
              "      background-color: #E2EBFA;\n",
              "      box-shadow: 0px 1px 2px rgba(60, 64, 67, 0.3), 0px 1px 3px 1px rgba(60, 64, 67, 0.15);\n",
              "      fill: #174EA6;\n",
              "    }\n",
              "\n",
              "    [theme=dark] .colab-df-convert {\n",
              "      background-color: #3B4455;\n",
              "      fill: #D2E3FC;\n",
              "    }\n",
              "\n",
              "    [theme=dark] .colab-df-convert:hover {\n",
              "      background-color: #434B5C;\n",
              "      box-shadow: 0px 1px 3px 1px rgba(0, 0, 0, 0.15);\n",
              "      filter: drop-shadow(0px 1px 2px rgba(0, 0, 0, 0.3));\n",
              "      fill: #FFFFFF;\n",
              "    }\n",
              "  </style>\n",
              "\n",
              "      <script>\n",
              "        const buttonEl =\n",
              "          document.querySelector('#df-5a879515-89f5-4b6c-93b3-acb95781b24c button.colab-df-convert');\n",
              "        buttonEl.style.display =\n",
              "          google.colab.kernel.accessAllowed ? 'block' : 'none';\n",
              "\n",
              "        async function convertToInteractive(key) {\n",
              "          const element = document.querySelector('#df-5a879515-89f5-4b6c-93b3-acb95781b24c');\n",
              "          const dataTable =\n",
              "            await google.colab.kernel.invokeFunction('convertToInteractive',\n",
              "                                                     [key], {});\n",
              "          if (!dataTable) return;\n",
              "\n",
              "          const docLinkHtml = 'Like what you see? Visit the ' +\n",
              "            '<a target=\"_blank\" href=https://colab.research.google.com/notebooks/data_table.ipynb>data table notebook</a>'\n",
              "            + ' to learn more about interactive tables.';\n",
              "          element.innerHTML = '';\n",
              "          dataTable['output_type'] = 'display_data';\n",
              "          await google.colab.output.renderOutput(dataTable, element);\n",
              "          const docLink = document.createElement('div');\n",
              "          docLink.innerHTML = docLinkHtml;\n",
              "          element.appendChild(docLink);\n",
              "        }\n",
              "      </script>\n",
              "    </div>\n",
              "  </div>\n",
              "  "
            ]
          },
          "metadata": {},
          "execution_count": 16
        }
      ],
      "source": [
        "df_test.head()"
      ]
    },
    {
      "cell_type": "code",
      "execution_count": null,
      "metadata": {
        "colab": {
          "base_uri": "https://localhost:8080/",
          "height": 267
        },
        "id": "L3GvSNQuVw_0",
        "outputId": "d584f2db-a1a8-46c4-899c-63f57aad0e76"
      },
      "outputs": [
        {
          "output_type": "execute_result",
          "data": {
            "text/plain": [
              "   label  feature 1  feature 2  feature 3  feature 4  feature 5  feature 6  \\\n",
              "0    1.0        1.0        0.0        0.0        0.0        0.0        0.0   \n",
              "1    0.0        0.0        0.0        0.0        0.0        0.0        0.0   \n",
              "2    0.0        0.0        0.0        0.0        0.0        0.0        0.0   \n",
              "3    1.0        0.0        0.0        1.0        0.0        0.0        0.0   \n",
              "4    1.0        0.0        0.0        0.0        0.0        0.0        0.0   \n",
              "\n",
              "   feature 7  feature 8  feature 9  feature 10  feature 11  feature 12  \\\n",
              "0        0.0        0.0        0.0         0.0         0.0         0.0   \n",
              "1        0.0        0.0        0.0         0.0         0.0         0.0   \n",
              "2        1.0        0.0        0.0         0.0         0.0         0.0   \n",
              "3        0.0        0.0        0.0         0.0         0.0         0.0   \n",
              "4        1.0        0.0        0.0         0.0         0.0         0.0   \n",
              "\n",
              "   feature 13  feature 14  feature 15  feature 16  feature 17  feature 18  \\\n",
              "0         0.0         0.0        93.0         0.0    0.025641         0.0   \n",
              "1         0.0         0.0        23.0         0.0    0.051282         0.0   \n",
              "2         0.0         0.0        32.0         0.0    0.076923         0.0   \n",
              "3         1.0         0.0        20.0         0.0    0.102564         1.0   \n",
              "4         0.0         0.0        39.0         0.0    0.128205         0.0   \n",
              "\n",
              "   feature 19  \n",
              "0         1.0  \n",
              "1         0.0  \n",
              "2         0.0  \n",
              "3         1.0  \n",
              "4         0.0  "
            ],
            "text/html": [
              "\n",
              "  <div id=\"df-fb83faef-3dcc-4af7-9fd9-f81611350853\">\n",
              "    <div class=\"colab-df-container\">\n",
              "      <div>\n",
              "<style scoped>\n",
              "    .dataframe tbody tr th:only-of-type {\n",
              "        vertical-align: middle;\n",
              "    }\n",
              "\n",
              "    .dataframe tbody tr th {\n",
              "        vertical-align: top;\n",
              "    }\n",
              "\n",
              "    .dataframe thead th {\n",
              "        text-align: right;\n",
              "    }\n",
              "</style>\n",
              "<table border=\"1\" class=\"dataframe\">\n",
              "  <thead>\n",
              "    <tr style=\"text-align: right;\">\n",
              "      <th></th>\n",
              "      <th>label</th>\n",
              "      <th>feature 1</th>\n",
              "      <th>feature 2</th>\n",
              "      <th>feature 3</th>\n",
              "      <th>feature 4</th>\n",
              "      <th>feature 5</th>\n",
              "      <th>feature 6</th>\n",
              "      <th>feature 7</th>\n",
              "      <th>feature 8</th>\n",
              "      <th>feature 9</th>\n",
              "      <th>feature 10</th>\n",
              "      <th>feature 11</th>\n",
              "      <th>feature 12</th>\n",
              "      <th>feature 13</th>\n",
              "      <th>feature 14</th>\n",
              "      <th>feature 15</th>\n",
              "      <th>feature 16</th>\n",
              "      <th>feature 17</th>\n",
              "      <th>feature 18</th>\n",
              "      <th>feature 19</th>\n",
              "    </tr>\n",
              "  </thead>\n",
              "  <tbody>\n",
              "    <tr>\n",
              "      <th>0</th>\n",
              "      <td>1.0</td>\n",
              "      <td>1.0</td>\n",
              "      <td>0.0</td>\n",
              "      <td>0.0</td>\n",
              "      <td>0.0</td>\n",
              "      <td>0.0</td>\n",
              "      <td>0.0</td>\n",
              "      <td>0.0</td>\n",
              "      <td>0.0</td>\n",
              "      <td>0.0</td>\n",
              "      <td>0.0</td>\n",
              "      <td>0.0</td>\n",
              "      <td>0.0</td>\n",
              "      <td>0.0</td>\n",
              "      <td>0.0</td>\n",
              "      <td>93.0</td>\n",
              "      <td>0.0</td>\n",
              "      <td>0.025641</td>\n",
              "      <td>0.0</td>\n",
              "      <td>1.0</td>\n",
              "    </tr>\n",
              "    <tr>\n",
              "      <th>1</th>\n",
              "      <td>0.0</td>\n",
              "      <td>0.0</td>\n",
              "      <td>0.0</td>\n",
              "      <td>0.0</td>\n",
              "      <td>0.0</td>\n",
              "      <td>0.0</td>\n",
              "      <td>0.0</td>\n",
              "      <td>0.0</td>\n",
              "      <td>0.0</td>\n",
              "      <td>0.0</td>\n",
              "      <td>0.0</td>\n",
              "      <td>0.0</td>\n",
              "      <td>0.0</td>\n",
              "      <td>0.0</td>\n",
              "      <td>0.0</td>\n",
              "      <td>23.0</td>\n",
              "      <td>0.0</td>\n",
              "      <td>0.051282</td>\n",
              "      <td>0.0</td>\n",
              "      <td>0.0</td>\n",
              "    </tr>\n",
              "    <tr>\n",
              "      <th>2</th>\n",
              "      <td>0.0</td>\n",
              "      <td>0.0</td>\n",
              "      <td>0.0</td>\n",
              "      <td>0.0</td>\n",
              "      <td>0.0</td>\n",
              "      <td>0.0</td>\n",
              "      <td>0.0</td>\n",
              "      <td>1.0</td>\n",
              "      <td>0.0</td>\n",
              "      <td>0.0</td>\n",
              "      <td>0.0</td>\n",
              "      <td>0.0</td>\n",
              "      <td>0.0</td>\n",
              "      <td>0.0</td>\n",
              "      <td>0.0</td>\n",
              "      <td>32.0</td>\n",
              "      <td>0.0</td>\n",
              "      <td>0.076923</td>\n",
              "      <td>0.0</td>\n",
              "      <td>0.0</td>\n",
              "    </tr>\n",
              "    <tr>\n",
              "      <th>3</th>\n",
              "      <td>1.0</td>\n",
              "      <td>0.0</td>\n",
              "      <td>0.0</td>\n",
              "      <td>1.0</td>\n",
              "      <td>0.0</td>\n",
              "      <td>0.0</td>\n",
              "      <td>0.0</td>\n",
              "      <td>0.0</td>\n",
              "      <td>0.0</td>\n",
              "      <td>0.0</td>\n",
              "      <td>0.0</td>\n",
              "      <td>0.0</td>\n",
              "      <td>0.0</td>\n",
              "      <td>1.0</td>\n",
              "      <td>0.0</td>\n",
              "      <td>20.0</td>\n",
              "      <td>0.0</td>\n",
              "      <td>0.102564</td>\n",
              "      <td>1.0</td>\n",
              "      <td>1.0</td>\n",
              "    </tr>\n",
              "    <tr>\n",
              "      <th>4</th>\n",
              "      <td>1.0</td>\n",
              "      <td>0.0</td>\n",
              "      <td>0.0</td>\n",
              "      <td>0.0</td>\n",
              "      <td>0.0</td>\n",
              "      <td>0.0</td>\n",
              "      <td>0.0</td>\n",
              "      <td>1.0</td>\n",
              "      <td>0.0</td>\n",
              "      <td>0.0</td>\n",
              "      <td>0.0</td>\n",
              "      <td>0.0</td>\n",
              "      <td>0.0</td>\n",
              "      <td>0.0</td>\n",
              "      <td>0.0</td>\n",
              "      <td>39.0</td>\n",
              "      <td>0.0</td>\n",
              "      <td>0.128205</td>\n",
              "      <td>0.0</td>\n",
              "      <td>0.0</td>\n",
              "    </tr>\n",
              "  </tbody>\n",
              "</table>\n",
              "</div>\n",
              "      <button class=\"colab-df-convert\" onclick=\"convertToInteractive('df-fb83faef-3dcc-4af7-9fd9-f81611350853')\"\n",
              "              title=\"Convert this dataframe to an interactive table.\"\n",
              "              style=\"display:none;\">\n",
              "        \n",
              "  <svg xmlns=\"http://www.w3.org/2000/svg\" height=\"24px\"viewBox=\"0 0 24 24\"\n",
              "       width=\"24px\">\n",
              "    <path d=\"M0 0h24v24H0V0z\" fill=\"none\"/>\n",
              "    <path d=\"M18.56 5.44l.94 2.06.94-2.06 2.06-.94-2.06-.94-.94-2.06-.94 2.06-2.06.94zm-11 1L8.5 8.5l.94-2.06 2.06-.94-2.06-.94L8.5 2.5l-.94 2.06-2.06.94zm10 10l.94 2.06.94-2.06 2.06-.94-2.06-.94-.94-2.06-.94 2.06-2.06.94z\"/><path d=\"M17.41 7.96l-1.37-1.37c-.4-.4-.92-.59-1.43-.59-.52 0-1.04.2-1.43.59L10.3 9.45l-7.72 7.72c-.78.78-.78 2.05 0 2.83L4 21.41c.39.39.9.59 1.41.59.51 0 1.02-.2 1.41-.59l7.78-7.78 2.81-2.81c.8-.78.8-2.07 0-2.86zM5.41 20L4 18.59l7.72-7.72 1.47 1.35L5.41 20z\"/>\n",
              "  </svg>\n",
              "      </button>\n",
              "      \n",
              "  <style>\n",
              "    .colab-df-container {\n",
              "      display:flex;\n",
              "      flex-wrap:wrap;\n",
              "      gap: 12px;\n",
              "    }\n",
              "\n",
              "    .colab-df-convert {\n",
              "      background-color: #E8F0FE;\n",
              "      border: none;\n",
              "      border-radius: 50%;\n",
              "      cursor: pointer;\n",
              "      display: none;\n",
              "      fill: #1967D2;\n",
              "      height: 32px;\n",
              "      padding: 0 0 0 0;\n",
              "      width: 32px;\n",
              "    }\n",
              "\n",
              "    .colab-df-convert:hover {\n",
              "      background-color: #E2EBFA;\n",
              "      box-shadow: 0px 1px 2px rgba(60, 64, 67, 0.3), 0px 1px 3px 1px rgba(60, 64, 67, 0.15);\n",
              "      fill: #174EA6;\n",
              "    }\n",
              "\n",
              "    [theme=dark] .colab-df-convert {\n",
              "      background-color: #3B4455;\n",
              "      fill: #D2E3FC;\n",
              "    }\n",
              "\n",
              "    [theme=dark] .colab-df-convert:hover {\n",
              "      background-color: #434B5C;\n",
              "      box-shadow: 0px 1px 3px 1px rgba(0, 0, 0, 0.15);\n",
              "      filter: drop-shadow(0px 1px 2px rgba(0, 0, 0, 0.3));\n",
              "      fill: #FFFFFF;\n",
              "    }\n",
              "  </style>\n",
              "\n",
              "      <script>\n",
              "        const buttonEl =\n",
              "          document.querySelector('#df-fb83faef-3dcc-4af7-9fd9-f81611350853 button.colab-df-convert');\n",
              "        buttonEl.style.display =\n",
              "          google.colab.kernel.accessAllowed ? 'block' : 'none';\n",
              "\n",
              "        async function convertToInteractive(key) {\n",
              "          const element = document.querySelector('#df-fb83faef-3dcc-4af7-9fd9-f81611350853');\n",
              "          const dataTable =\n",
              "            await google.colab.kernel.invokeFunction('convertToInteractive',\n",
              "                                                     [key], {});\n",
              "          if (!dataTable) return;\n",
              "\n",
              "          const docLinkHtml = 'Like what you see? Visit the ' +\n",
              "            '<a target=\"_blank\" href=https://colab.research.google.com/notebooks/data_table.ipynb>data table notebook</a>'\n",
              "            + ' to learn more about interactive tables.';\n",
              "          element.innerHTML = '';\n",
              "          dataTable['output_type'] = 'display_data';\n",
              "          await google.colab.output.renderOutput(dataTable, element);\n",
              "          const docLink = document.createElement('div');\n",
              "          docLink.innerHTML = docLinkHtml;\n",
              "          element.appendChild(docLink);\n",
              "        }\n",
              "      </script>\n",
              "    </div>\n",
              "  </div>\n",
              "  "
            ]
          },
          "metadata": {},
          "execution_count": 17
        }
      ],
      "source": [
        "df_train.head()"
      ]
    },
    {
      "cell_type": "code",
      "execution_count": null,
      "metadata": {
        "id": "LmKZ0_JpVy_O"
      },
      "outputs": [],
      "source": [
        "y_train=df_train['label']\n",
        "x_train=df_train[['feature 1','feature 2','feature 3','feature 4','feature 5','feature 6','feature 7','feature 8','feature 9','feature 10','feature 11','feature 12','feature 13','feature 14','feature 15','feature 16','feature 17','feature 18','feature 19']]\n",
        "\n",
        "\n",
        "\n",
        "y_test=df_train['label']\n",
        "x_test=df_train[['feature 1','feature 2','feature 3','feature 4','feature 5','feature 6','feature 7','feature 8','feature 9','feature 10','feature 11','feature 12','feature 13','feature 14','feature 15','feature 16','feature 17','feature 18','feature 19']]"
      ]
    },
    {
      "cell_type": "code",
      "execution_count": null,
      "metadata": {
        "colab": {
          "base_uri": "https://localhost:8080/"
        },
        "id": "RWDXwiLaV1QX",
        "outputId": "6c2393bf-8804-4dd6-e2db-acb16ebd2324"
      },
      "outputs": [
        {
          "output_type": "execute_result",
          "data": {
            "text/plain": [
              "0         1.0\n",
              "1         0.0\n",
              "2         0.0\n",
              "3         1.0\n",
              "4         1.0\n",
              "         ... \n",
              "266737    1.0\n",
              "266738    0.0\n",
              "266739    1.0\n",
              "266740    1.0\n",
              "266741    0.0\n",
              "Name: label, Length: 266742, dtype: float64"
            ]
          },
          "metadata": {},
          "execution_count": 19
        }
      ],
      "source": [
        "y_train"
      ]
    },
    {
      "cell_type": "code",
      "execution_count": null,
      "metadata": {
        "colab": {
          "base_uri": "https://localhost:8080/",
          "height": 485
        },
        "id": "covHEc8ZV4AM",
        "outputId": "ad4f4bb4-f9fc-49d0-c9b3-aad3ed50b848"
      },
      "outputs": [
        {
          "output_type": "execute_result",
          "data": {
            "text/plain": [
              "        feature 1  feature 2  feature 3  feature 4  feature 5  feature 6  \\\n",
              "0             1.0        0.0        0.0        0.0        0.0        0.0   \n",
              "1             0.0        0.0        0.0        0.0        0.0        0.0   \n",
              "2             0.0        0.0        0.0        0.0        0.0        0.0   \n",
              "3             0.0        0.0        1.0        0.0        0.0        0.0   \n",
              "4             0.0        0.0        0.0        0.0        0.0        0.0   \n",
              "...           ...        ...        ...        ...        ...        ...   \n",
              "266737        0.0        0.0        0.0        0.0        0.0        0.0   \n",
              "266738        0.0        0.0        0.0        0.0        0.0        0.0   \n",
              "266739        0.0        0.0        1.0        1.0        0.0        0.0   \n",
              "266740        0.0        0.0        0.0        0.0        1.0        0.0   \n",
              "266741        0.0        0.0        0.0        0.0        0.0        0.0   \n",
              "\n",
              "        feature 7  feature 8  feature 9  feature 10  feature 11  feature 12  \\\n",
              "0             0.0        0.0        0.0         0.0         0.0         0.0   \n",
              "1             0.0        0.0        0.0         0.0         0.0         0.0   \n",
              "2             1.0        0.0        0.0         0.0         0.0         0.0   \n",
              "3             0.0        0.0        0.0         0.0         0.0         0.0   \n",
              "4             1.0        0.0        0.0         0.0         0.0         0.0   \n",
              "...           ...        ...        ...         ...         ...         ...   \n",
              "266737        0.0        0.0        0.0         0.0         0.0         0.0   \n",
              "266738        0.0        0.0        0.0         0.0         0.0         0.0   \n",
              "266739        0.0        0.0        0.0         0.0         0.0         0.0   \n",
              "266740        1.0        0.0        0.0         0.0         0.0         1.0   \n",
              "266741        0.0        0.0        0.0         0.0         0.0         0.0   \n",
              "\n",
              "        feature 13  feature 14  feature 15  feature 16  feature 17  \\\n",
              "0              0.0         0.0        93.0         0.0    0.025641   \n",
              "1              0.0         0.0        23.0         0.0    0.051282   \n",
              "2              0.0         0.0        32.0         0.0    0.076923   \n",
              "3              1.0         0.0        20.0         0.0    0.102564   \n",
              "4              0.0         0.0        39.0         0.0    0.128205   \n",
              "...            ...         ...         ...         ...         ...   \n",
              "266737         0.0         2.0        15.0         0.0    0.500000   \n",
              "266738         0.0         0.0         1.0         0.0    0.625000   \n",
              "266739         1.0         2.0        42.0         0.0    0.750000   \n",
              "266740         0.0         0.0        69.0         0.0    0.875000   \n",
              "266741         0.0         0.0         1.0         0.0    1.000000   \n",
              "\n",
              "        feature 18  feature 19  \n",
              "0              0.0         1.0  \n",
              "1              0.0         0.0  \n",
              "2              0.0         0.0  \n",
              "3              1.0         1.0  \n",
              "4              0.0         0.0  \n",
              "...            ...         ...  \n",
              "266737         0.0         0.0  \n",
              "266738         0.0         0.0  \n",
              "266739         0.0         1.0  \n",
              "266740         0.0         0.0  \n",
              "266741         0.0         0.0  \n",
              "\n",
              "[266742 rows x 19 columns]"
            ],
            "text/html": [
              "\n",
              "  <div id=\"df-da205b8d-fc2b-4eaa-bf32-01526d7a4b94\">\n",
              "    <div class=\"colab-df-container\">\n",
              "      <div>\n",
              "<style scoped>\n",
              "    .dataframe tbody tr th:only-of-type {\n",
              "        vertical-align: middle;\n",
              "    }\n",
              "\n",
              "    .dataframe tbody tr th {\n",
              "        vertical-align: top;\n",
              "    }\n",
              "\n",
              "    .dataframe thead th {\n",
              "        text-align: right;\n",
              "    }\n",
              "</style>\n",
              "<table border=\"1\" class=\"dataframe\">\n",
              "  <thead>\n",
              "    <tr style=\"text-align: right;\">\n",
              "      <th></th>\n",
              "      <th>feature 1</th>\n",
              "      <th>feature 2</th>\n",
              "      <th>feature 3</th>\n",
              "      <th>feature 4</th>\n",
              "      <th>feature 5</th>\n",
              "      <th>feature 6</th>\n",
              "      <th>feature 7</th>\n",
              "      <th>feature 8</th>\n",
              "      <th>feature 9</th>\n",
              "      <th>feature 10</th>\n",
              "      <th>feature 11</th>\n",
              "      <th>feature 12</th>\n",
              "      <th>feature 13</th>\n",
              "      <th>feature 14</th>\n",
              "      <th>feature 15</th>\n",
              "      <th>feature 16</th>\n",
              "      <th>feature 17</th>\n",
              "      <th>feature 18</th>\n",
              "      <th>feature 19</th>\n",
              "    </tr>\n",
              "  </thead>\n",
              "  <tbody>\n",
              "    <tr>\n",
              "      <th>0</th>\n",
              "      <td>1.0</td>\n",
              "      <td>0.0</td>\n",
              "      <td>0.0</td>\n",
              "      <td>0.0</td>\n",
              "      <td>0.0</td>\n",
              "      <td>0.0</td>\n",
              "      <td>0.0</td>\n",
              "      <td>0.0</td>\n",
              "      <td>0.0</td>\n",
              "      <td>0.0</td>\n",
              "      <td>0.0</td>\n",
              "      <td>0.0</td>\n",
              "      <td>0.0</td>\n",
              "      <td>0.0</td>\n",
              "      <td>93.0</td>\n",
              "      <td>0.0</td>\n",
              "      <td>0.025641</td>\n",
              "      <td>0.0</td>\n",
              "      <td>1.0</td>\n",
              "    </tr>\n",
              "    <tr>\n",
              "      <th>1</th>\n",
              "      <td>0.0</td>\n",
              "      <td>0.0</td>\n",
              "      <td>0.0</td>\n",
              "      <td>0.0</td>\n",
              "      <td>0.0</td>\n",
              "      <td>0.0</td>\n",
              "      <td>0.0</td>\n",
              "      <td>0.0</td>\n",
              "      <td>0.0</td>\n",
              "      <td>0.0</td>\n",
              "      <td>0.0</td>\n",
              "      <td>0.0</td>\n",
              "      <td>0.0</td>\n",
              "      <td>0.0</td>\n",
              "      <td>23.0</td>\n",
              "      <td>0.0</td>\n",
              "      <td>0.051282</td>\n",
              "      <td>0.0</td>\n",
              "      <td>0.0</td>\n",
              "    </tr>\n",
              "    <tr>\n",
              "      <th>2</th>\n",
              "      <td>0.0</td>\n",
              "      <td>0.0</td>\n",
              "      <td>0.0</td>\n",
              "      <td>0.0</td>\n",
              "      <td>0.0</td>\n",
              "      <td>0.0</td>\n",
              "      <td>1.0</td>\n",
              "      <td>0.0</td>\n",
              "      <td>0.0</td>\n",
              "      <td>0.0</td>\n",
              "      <td>0.0</td>\n",
              "      <td>0.0</td>\n",
              "      <td>0.0</td>\n",
              "      <td>0.0</td>\n",
              "      <td>32.0</td>\n",
              "      <td>0.0</td>\n",
              "      <td>0.076923</td>\n",
              "      <td>0.0</td>\n",
              "      <td>0.0</td>\n",
              "    </tr>\n",
              "    <tr>\n",
              "      <th>3</th>\n",
              "      <td>0.0</td>\n",
              "      <td>0.0</td>\n",
              "      <td>1.0</td>\n",
              "      <td>0.0</td>\n",
              "      <td>0.0</td>\n",
              "      <td>0.0</td>\n",
              "      <td>0.0</td>\n",
              "      <td>0.0</td>\n",
              "      <td>0.0</td>\n",
              "      <td>0.0</td>\n",
              "      <td>0.0</td>\n",
              "      <td>0.0</td>\n",
              "      <td>1.0</td>\n",
              "      <td>0.0</td>\n",
              "      <td>20.0</td>\n",
              "      <td>0.0</td>\n",
              "      <td>0.102564</td>\n",
              "      <td>1.0</td>\n",
              "      <td>1.0</td>\n",
              "    </tr>\n",
              "    <tr>\n",
              "      <th>4</th>\n",
              "      <td>0.0</td>\n",
              "      <td>0.0</td>\n",
              "      <td>0.0</td>\n",
              "      <td>0.0</td>\n",
              "      <td>0.0</td>\n",
              "      <td>0.0</td>\n",
              "      <td>1.0</td>\n",
              "      <td>0.0</td>\n",
              "      <td>0.0</td>\n",
              "      <td>0.0</td>\n",
              "      <td>0.0</td>\n",
              "      <td>0.0</td>\n",
              "      <td>0.0</td>\n",
              "      <td>0.0</td>\n",
              "      <td>39.0</td>\n",
              "      <td>0.0</td>\n",
              "      <td>0.128205</td>\n",
              "      <td>0.0</td>\n",
              "      <td>0.0</td>\n",
              "    </tr>\n",
              "    <tr>\n",
              "      <th>...</th>\n",
              "      <td>...</td>\n",
              "      <td>...</td>\n",
              "      <td>...</td>\n",
              "      <td>...</td>\n",
              "      <td>...</td>\n",
              "      <td>...</td>\n",
              "      <td>...</td>\n",
              "      <td>...</td>\n",
              "      <td>...</td>\n",
              "      <td>...</td>\n",
              "      <td>...</td>\n",
              "      <td>...</td>\n",
              "      <td>...</td>\n",
              "      <td>...</td>\n",
              "      <td>...</td>\n",
              "      <td>...</td>\n",
              "      <td>...</td>\n",
              "      <td>...</td>\n",
              "      <td>...</td>\n",
              "    </tr>\n",
              "    <tr>\n",
              "      <th>266737</th>\n",
              "      <td>0.0</td>\n",
              "      <td>0.0</td>\n",
              "      <td>0.0</td>\n",
              "      <td>0.0</td>\n",
              "      <td>0.0</td>\n",
              "      <td>0.0</td>\n",
              "      <td>0.0</td>\n",
              "      <td>0.0</td>\n",
              "      <td>0.0</td>\n",
              "      <td>0.0</td>\n",
              "      <td>0.0</td>\n",
              "      <td>0.0</td>\n",
              "      <td>0.0</td>\n",
              "      <td>2.0</td>\n",
              "      <td>15.0</td>\n",
              "      <td>0.0</td>\n",
              "      <td>0.500000</td>\n",
              "      <td>0.0</td>\n",
              "      <td>0.0</td>\n",
              "    </tr>\n",
              "    <tr>\n",
              "      <th>266738</th>\n",
              "      <td>0.0</td>\n",
              "      <td>0.0</td>\n",
              "      <td>0.0</td>\n",
              "      <td>0.0</td>\n",
              "      <td>0.0</td>\n",
              "      <td>0.0</td>\n",
              "      <td>0.0</td>\n",
              "      <td>0.0</td>\n",
              "      <td>0.0</td>\n",
              "      <td>0.0</td>\n",
              "      <td>0.0</td>\n",
              "      <td>0.0</td>\n",
              "      <td>0.0</td>\n",
              "      <td>0.0</td>\n",
              "      <td>1.0</td>\n",
              "      <td>0.0</td>\n",
              "      <td>0.625000</td>\n",
              "      <td>0.0</td>\n",
              "      <td>0.0</td>\n",
              "    </tr>\n",
              "    <tr>\n",
              "      <th>266739</th>\n",
              "      <td>0.0</td>\n",
              "      <td>0.0</td>\n",
              "      <td>1.0</td>\n",
              "      <td>1.0</td>\n",
              "      <td>0.0</td>\n",
              "      <td>0.0</td>\n",
              "      <td>0.0</td>\n",
              "      <td>0.0</td>\n",
              "      <td>0.0</td>\n",
              "      <td>0.0</td>\n",
              "      <td>0.0</td>\n",
              "      <td>0.0</td>\n",
              "      <td>1.0</td>\n",
              "      <td>2.0</td>\n",
              "      <td>42.0</td>\n",
              "      <td>0.0</td>\n",
              "      <td>0.750000</td>\n",
              "      <td>0.0</td>\n",
              "      <td>1.0</td>\n",
              "    </tr>\n",
              "    <tr>\n",
              "      <th>266740</th>\n",
              "      <td>0.0</td>\n",
              "      <td>0.0</td>\n",
              "      <td>0.0</td>\n",
              "      <td>0.0</td>\n",
              "      <td>1.0</td>\n",
              "      <td>0.0</td>\n",
              "      <td>1.0</td>\n",
              "      <td>0.0</td>\n",
              "      <td>0.0</td>\n",
              "      <td>0.0</td>\n",
              "      <td>0.0</td>\n",
              "      <td>1.0</td>\n",
              "      <td>0.0</td>\n",
              "      <td>0.0</td>\n",
              "      <td>69.0</td>\n",
              "      <td>0.0</td>\n",
              "      <td>0.875000</td>\n",
              "      <td>0.0</td>\n",
              "      <td>0.0</td>\n",
              "    </tr>\n",
              "    <tr>\n",
              "      <th>266741</th>\n",
              "      <td>0.0</td>\n",
              "      <td>0.0</td>\n",
              "      <td>0.0</td>\n",
              "      <td>0.0</td>\n",
              "      <td>0.0</td>\n",
              "      <td>0.0</td>\n",
              "      <td>0.0</td>\n",
              "      <td>0.0</td>\n",
              "      <td>0.0</td>\n",
              "      <td>0.0</td>\n",
              "      <td>0.0</td>\n",
              "      <td>0.0</td>\n",
              "      <td>0.0</td>\n",
              "      <td>0.0</td>\n",
              "      <td>1.0</td>\n",
              "      <td>0.0</td>\n",
              "      <td>1.000000</td>\n",
              "      <td>0.0</td>\n",
              "      <td>0.0</td>\n",
              "    </tr>\n",
              "  </tbody>\n",
              "</table>\n",
              "<p>266742 rows × 19 columns</p>\n",
              "</div>\n",
              "      <button class=\"colab-df-convert\" onclick=\"convertToInteractive('df-da205b8d-fc2b-4eaa-bf32-01526d7a4b94')\"\n",
              "              title=\"Convert this dataframe to an interactive table.\"\n",
              "              style=\"display:none;\">\n",
              "        \n",
              "  <svg xmlns=\"http://www.w3.org/2000/svg\" height=\"24px\"viewBox=\"0 0 24 24\"\n",
              "       width=\"24px\">\n",
              "    <path d=\"M0 0h24v24H0V0z\" fill=\"none\"/>\n",
              "    <path d=\"M18.56 5.44l.94 2.06.94-2.06 2.06-.94-2.06-.94-.94-2.06-.94 2.06-2.06.94zm-11 1L8.5 8.5l.94-2.06 2.06-.94-2.06-.94L8.5 2.5l-.94 2.06-2.06.94zm10 10l.94 2.06.94-2.06 2.06-.94-2.06-.94-.94-2.06-.94 2.06-2.06.94z\"/><path d=\"M17.41 7.96l-1.37-1.37c-.4-.4-.92-.59-1.43-.59-.52 0-1.04.2-1.43.59L10.3 9.45l-7.72 7.72c-.78.78-.78 2.05 0 2.83L4 21.41c.39.39.9.59 1.41.59.51 0 1.02-.2 1.41-.59l7.78-7.78 2.81-2.81c.8-.78.8-2.07 0-2.86zM5.41 20L4 18.59l7.72-7.72 1.47 1.35L5.41 20z\"/>\n",
              "  </svg>\n",
              "      </button>\n",
              "      \n",
              "  <style>\n",
              "    .colab-df-container {\n",
              "      display:flex;\n",
              "      flex-wrap:wrap;\n",
              "      gap: 12px;\n",
              "    }\n",
              "\n",
              "    .colab-df-convert {\n",
              "      background-color: #E8F0FE;\n",
              "      border: none;\n",
              "      border-radius: 50%;\n",
              "      cursor: pointer;\n",
              "      display: none;\n",
              "      fill: #1967D2;\n",
              "      height: 32px;\n",
              "      padding: 0 0 0 0;\n",
              "      width: 32px;\n",
              "    }\n",
              "\n",
              "    .colab-df-convert:hover {\n",
              "      background-color: #E2EBFA;\n",
              "      box-shadow: 0px 1px 2px rgba(60, 64, 67, 0.3), 0px 1px 3px 1px rgba(60, 64, 67, 0.15);\n",
              "      fill: #174EA6;\n",
              "    }\n",
              "\n",
              "    [theme=dark] .colab-df-convert {\n",
              "      background-color: #3B4455;\n",
              "      fill: #D2E3FC;\n",
              "    }\n",
              "\n",
              "    [theme=dark] .colab-df-convert:hover {\n",
              "      background-color: #434B5C;\n",
              "      box-shadow: 0px 1px 3px 1px rgba(0, 0, 0, 0.15);\n",
              "      filter: drop-shadow(0px 1px 2px rgba(0, 0, 0, 0.3));\n",
              "      fill: #FFFFFF;\n",
              "    }\n",
              "  </style>\n",
              "\n",
              "      <script>\n",
              "        const buttonEl =\n",
              "          document.querySelector('#df-da205b8d-fc2b-4eaa-bf32-01526d7a4b94 button.colab-df-convert');\n",
              "        buttonEl.style.display =\n",
              "          google.colab.kernel.accessAllowed ? 'block' : 'none';\n",
              "\n",
              "        async function convertToInteractive(key) {\n",
              "          const element = document.querySelector('#df-da205b8d-fc2b-4eaa-bf32-01526d7a4b94');\n",
              "          const dataTable =\n",
              "            await google.colab.kernel.invokeFunction('convertToInteractive',\n",
              "                                                     [key], {});\n",
              "          if (!dataTable) return;\n",
              "\n",
              "          const docLinkHtml = 'Like what you see? Visit the ' +\n",
              "            '<a target=\"_blank\" href=https://colab.research.google.com/notebooks/data_table.ipynb>data table notebook</a>'\n",
              "            + ' to learn more about interactive tables.';\n",
              "          element.innerHTML = '';\n",
              "          dataTable['output_type'] = 'display_data';\n",
              "          await google.colab.output.renderOutput(dataTable, element);\n",
              "          const docLink = document.createElement('div');\n",
              "          docLink.innerHTML = docLinkHtml;\n",
              "          element.appendChild(docLink);\n",
              "        }\n",
              "      </script>\n",
              "    </div>\n",
              "  </div>\n",
              "  "
            ]
          },
          "metadata": {},
          "execution_count": 20
        }
      ],
      "source": [
        "x_train"
      ]
    },
    {
      "cell_type": "markdown",
      "metadata": {
        "id": "0KxtODykV7Ps"
      },
      "source": [
        "#Gaussian Naive Bayes Model"
      ]
    },
    {
      "cell_type": "code",
      "execution_count": null,
      "metadata": {
        "id": "CYLabYhUR2_i"
      },
      "outputs": [],
      "source": [
        "model=GaussianNB()"
      ]
    },
    {
      "cell_type": "code",
      "execution_count": null,
      "metadata": {
        "colab": {
          "base_uri": "https://localhost:8080/"
        },
        "id": "bfDslLWDSgyB",
        "outputId": "ead27c9a-3906-4206-fbb9-0e37d99c9724"
      },
      "outputs": [
        {
          "data": {
            "text/plain": [
              "GaussianNB()"
            ]
          },
          "execution_count": 22,
          "metadata": {},
          "output_type": "execute_result"
        }
      ],
      "source": [
        "model.fit(x_train,y_train)"
      ]
    },
    {
      "cell_type": "code",
      "execution_count": null,
      "metadata": {
        "colab": {
          "base_uri": "https://localhost:8080/"
        },
        "id": "voKvYY3ZSlNa",
        "outputId": "9e5f166c-f58a-4dd5-a3f4-4f92b1d56b8f"
      },
      "outputs": [
        {
          "data": {
            "text/plain": [
              "0.7482286254133207"
            ]
          },
          "execution_count": 23,
          "metadata": {},
          "output_type": "execute_result"
        }
      ],
      "source": [
        "model.score(x_test,y_test)"
      ]
    },
    {
      "cell_type": "markdown",
      "metadata": {
        "id": "0R_S0x3bWEBc"
      },
      "source": [
        "# Neural Networks Model"
      ]
    },
    {
      "cell_type": "code",
      "execution_count": null,
      "metadata": {
        "colab": {
          "base_uri": "https://localhost:8080/"
        },
        "id": "QP0XE2h2WDIl",
        "outputId": "e76b1598-6f38-4ff1-eec6-2ba91d7e2017"
      },
      "outputs": [
        {
          "name": "stdout",
          "output_type": "stream",
          "text": [
            "Epoch 1/10\n",
            "8336/8336 - 43s - loss: 0.4450 - accuracy: 0.7943 - val_loss: 0.4171 - val_accuracy: 0.8044 - 43s/epoch - 5ms/step\n",
            "Epoch 2/10\n",
            "8336/8336 - 44s - loss: 0.4089 - accuracy: 0.8068 - val_loss: 0.4035 - val_accuracy: 0.8111 - 44s/epoch - 5ms/step\n",
            "Epoch 3/10\n",
            "8336/8336 - 39s - loss: 0.4034 - accuracy: 0.8071 - val_loss: 0.3989 - val_accuracy: 0.8063 - 39s/epoch - 5ms/step\n",
            "Epoch 4/10\n",
            "8336/8336 - 39s - loss: 0.3979 - accuracy: 0.8092 - val_loss: 0.3920 - val_accuracy: 0.8125 - 39s/epoch - 5ms/step\n",
            "Epoch 5/10\n",
            "8336/8336 - 39s - loss: 0.3880 - accuracy: 0.8152 - val_loss: 0.3872 - val_accuracy: 0.8087 - 39s/epoch - 5ms/step\n",
            "Epoch 6/10\n",
            "8336/8336 - 43s - loss: 0.3809 - accuracy: 0.8196 - val_loss: 0.3757 - val_accuracy: 0.8238 - 43s/epoch - 5ms/step\n",
            "Epoch 7/10\n",
            "8336/8336 - 43s - loss: 0.3771 - accuracy: 0.8203 - val_loss: 0.3736 - val_accuracy: 0.8219 - 43s/epoch - 5ms/step\n",
            "Epoch 8/10\n",
            "8336/8336 - 39s - loss: 0.3748 - accuracy: 0.8208 - val_loss: 0.3787 - val_accuracy: 0.8181 - 39s/epoch - 5ms/step\n",
            "Epoch 9/10\n",
            "8336/8336 - 43s - loss: 0.3739 - accuracy: 0.8204 - val_loss: 0.3746 - val_accuracy: 0.8205 - 43s/epoch - 5ms/step\n",
            "Epoch 10/10\n",
            "8336/8336 - 39s - loss: 0.3727 - accuracy: 0.8210 - val_loss: 0.3686 - val_accuracy: 0.8276 - 39s/epoch - 5ms/step\n"
          ]
        }
      ],
      "source": [
        "input_layer=19\n",
        "output_layer=1\n",
        "hidden_layer=8\n",
        "\n",
        "model_1=tf.keras.Sequential([\n",
        "                           tf.keras.layers.Flatten(input_shape=(19,)),\n",
        "                           tf.keras.layers.Dense(hidden_layer,activation='relu'),\n",
        "                           tf.keras.layers.Dense(hidden_layer,activation='relu'),\n",
        "                           tf.keras.layers.Dense(output_layer,activation='sigmoid'),\n",
        "                          ])\n",
        "\n",
        "model_1.compile(optimizer='adam',loss='BinaryCrossentropy',metrics=['accuracy'])\n",
        "\n",
        "number_of_epochs=10\n",
        "\n",
        "h1=model_1.fit(x_train,y_train,epochs=number_of_epochs,verbose=2,validation_data=(x_test,y_test))"
      ]
    },
    {
      "cell_type": "code",
      "execution_count": null,
      "metadata": {
        "colab": {
          "base_uri": "https://localhost:8080/",
          "height": 279
        },
        "id": "-kFuoFwGXhWK",
        "outputId": "6495e286-ed57-4ba9-8d92-47baec8f57ca"
      },
      "outputs": [
        {
          "data": {
            "image/png": "[encoded data removed]",
            "text/plain": [
              "<Figure size 432x288 with 1 Axes>"
            ]
          },
          "metadata": {},
          "output_type": "display_data"
        }
      ],
      "source": [
        "# Get training and test loss histories\n",
        "training_loss = h1.history['loss']\n",
        "test_loss = h1.history['val_loss']\n",
        "\n",
        "# Create count of the number of epochs\n",
        "epoch_count = range(1, len(training_loss) + 1)\n",
        "\n",
        "# Visualize loss history\n",
        "plt.plot(epoch_count, training_loss, 'r--')\n",
        "plt.plot(epoch_count, test_loss, 'b-')\n",
        "plt.legend(['Training Loss', 'Test Loss'])\n",
        "plt.xlabel('Epoch')\n",
        "plt.ylabel('Loss')\n",
        "plt.show();"
      ]
    },
    {
      "cell_type": "code",
      "execution_count": null,
      "metadata": {
        "colab": {
          "base_uri": "https://localhost:8080/",
          "height": 279
        },
        "id": "0kxQ94tQZnoh",
        "outputId": "8ca908be-83b9-4800-e099-989e15d21914"
      },
      "outputs": [
        {
          "data": {
            "image/png": "[encoded data removed]",
            "text/plain": [
              "<Figure size 432x288 with 1 Axes>"
            ]
          },
          "metadata": {},
          "output_type": "display_data"
        }
      ],
      "source": [
        "# Get training and test loss histories\n",
        "train_accuracy=h1.history['val_accuracy']\n",
        "test_accuracy=h1.history['accuracy']\n",
        "\n",
        "\n",
        "# Create count of the number of epochs\n",
        "epoch_count = range(1, len(training_loss) + 1)\n",
        "\n",
        "# Visualize loss history\n",
        "plt.plot(epoch_count, train_accuracy, 'r--')\n",
        "plt.plot(epoch_count, test_accuracy, 'b-')\n",
        "\n",
        "plt.legend(['Training Accuracy', 'Test Accuracy'])\n",
        "plt.xlabel('Epoch')\n",
        "plt.ylabel('Accuracy')\n",
        "plt.show();"
      ]
    },
    {
      "cell_type": "markdown",
      "metadata": {
        "id": "HHW0KQdKOLSg"
      },
      "source": [
        "#SVM with different Kernels"
      ]
    },
    {
      "cell_type": "code",
      "execution_count": null,
      "metadata": {
        "id": "yfdaq9jZOn_z"
      },
      "outputs": [],
      "source": [
        "svclassifier1 = SVC(kernel='rbf')"
      ]
    },
    {
      "cell_type": "code",
      "execution_count": null,
      "metadata": {
        "colab": {
          "base_uri": "https://localhost:8080/"
        },
        "id": "6WfwuQwaDYbB",
        "outputId": "c7b776a4-6ce2-40f3-a469-a799be770d47"
      },
      "outputs": [
        {
          "data": {
            "text/plain": [
              "SVC()"
            ]
          },
          "execution_count": 22,
          "metadata": {},
          "output_type": "execute_result"
        }
      ],
      "source": [
        "svclassifier1.fit(x_train, y_train)"
      ]
    },
    {
      "cell_type": "code",
      "execution_count": null,
      "metadata": {
        "id": "lu7V6dA2O5gf"
      },
      "outputs": [],
      "source": [
        "y_pred = svclassifier1.predict(x_test)"
      ]
    },
    {
      "cell_type": "code",
      "execution_count": null,
      "metadata": {
        "colab": {
          "base_uri": "https://localhost:8080/"
        },
        "id": "OreDjxwhO8le",
        "outputId": "d1d14491-ef3c-441f-fec6-14f98788dbd7"
      },
      "outputs": [
        {
          "name": "stdout",
          "output_type": "stream",
          "text": [
            "              precision    recall  f1-score   support\n",
            "\n",
            "         0.0       0.81      0.90      0.85    162414\n",
            "         1.0       0.81      0.67      0.73    104328\n",
            "\n",
            "    accuracy                           0.81    266742\n",
            "   macro avg       0.81      0.78      0.79    266742\n",
            "weighted avg       0.81      0.81      0.80    266742\n",
            "\n"
          ]
        }
      ],
      "source": [
        "print(classification_report(y_test, y_pred))"
      ]
    },
    {
      "cell_type": "markdown",
      "metadata": {
        "id": "DvPj5kt5ayv0"
      },
      "source": [
        "#Logistic Regression"
      ]
    },
    {
      "cell_type": "code",
      "execution_count": null,
      "metadata": {
        "colab": {
          "base_uri": "https://localhost:8080/"
        },
        "id": "tNSwj0hZa0QI",
        "outputId": "fd357f1c-773d-49c7-ca5f-fe1a30aff3c8"
      },
      "outputs": [
        {
          "data": {
            "text/plain": [
              "LogisticRegression(max_iter=1000, random_state=0)"
            ]
          },
          "execution_count": 37,
          "metadata": {},
          "output_type": "execute_result"
        }
      ],
      "source": [
        "classifier = LogisticRegression(random_state = 0,max_iter=1000)\n",
        "classifier.fit(x_train, y_train)"
      ]
    },
    {
      "cell_type": "code",
      "execution_count": null,
      "metadata": {
        "id": "Mu7bl2P-a23f"
      },
      "outputs": [],
      "source": [
        "y_pred = classifier.predict(x_test)"
      ]
    },
    {
      "cell_type": "code",
      "execution_count": null,
      "metadata": {
        "colab": {
          "base_uri": "https://localhost:8080/"
        },
        "id": "k5vsDsC7a67C",
        "outputId": "7d76f1ec-fc97-45b3-e000-e7f11c8bd738"
      },
      "outputs": [
        {
          "name": "stdout",
          "output_type": "stream",
          "text": [
            "Confusion Matrix : \n",
            " [[142002  20412]\n",
            " [ 32508  71820]]\n"
          ]
        }
      ],
      "source": [
        "cm = confusion_matrix(y_test, y_pred)\n",
        " \n",
        "print (\"Confusion Matrix : \\n\", cm)"
      ]
    },
    {
      "cell_type": "code",
      "execution_count": null,
      "metadata": {
        "colab": {
          "base_uri": "https://localhost:8080/"
        },
        "id": "Ur4_ytdnbETB",
        "outputId": "1c7cf6e9-719e-4fc8-c512-9f0ccc8c2d51"
      },
      "outputs": [
        {
          "name": "stdout",
          "output_type": "stream",
          "text": [
            "Accuracy :  0.8016060462919226\n"
          ]
        }
      ],
      "source": [
        "print (\"Accuracy : \", accuracy_score(y_test, y_pred))"
      ]
    },
    {
      "cell_type": "markdown",
      "metadata": {
        "id": "Ptc06_HmoWd1"
      },
      "source": [
        "#KNN Model"
      ]
    },
    {
      "cell_type": "code",
      "execution_count": null,
      "metadata": {
        "id": "Nbf0xG53oX46"
      },
      "outputs": [],
      "source": [
        "KNN_model = KNeighborsClassifier(n_neighbors=3)"
      ]
    },
    {
      "cell_type": "code",
      "execution_count": null,
      "metadata": {
        "colab": {
          "base_uri": "https://localhost:8080/"
        },
        "id": "MQ7mAGPooa9C",
        "outputId": "b01d8c7b-6a01-47dc-9c37-533628f7d8b5"
      },
      "outputs": [
        {
          "data": {
            "text/plain": [
              "KNeighborsClassifier(n_neighbors=3)"
            ]
          },
          "execution_count": 40,
          "metadata": {},
          "output_type": "execute_result"
        }
      ],
      "source": [
        "KNN_model.fit(x_train, y_train)"
      ]
    },
    {
      "cell_type": "code",
      "execution_count": null,
      "metadata": {
        "id": "oj3bDCTtodXq"
      },
      "outputs": [],
      "source": [
        "KNN_prediction = KNN_model.predict(x_test)"
      ]
    },
    {
      "cell_type": "code",
      "execution_count": null,
      "metadata": {
        "colab": {
          "base_uri": "https://localhost:8080/"
        },
        "id": "FHo07CQgoiv9",
        "outputId": "58cc41d6-af51-42ae-ef46-eaa274de30cd"
      },
      "outputs": [
        {
          "name": "stdout",
          "output_type": "stream",
          "text": [
            "0.9971658006613132\n"
          ]
        }
      ],
      "source": [
        "print(accuracy_score(KNN_prediction, y_test))"
      ]
    },
    {
      "cell_type": "code",
      "execution_count": null,
      "metadata": {
        "colab": {
          "base_uri": "https://localhost:8080/"
        },
        "id": "itBJbyU7onF0",
        "outputId": "3834948a-bdb4-4dd3-b489-64460e1255e0"
      },
      "outputs": [
        {
          "name": "stdout",
          "output_type": "stream",
          "text": [
            "              precision    recall  f1-score   support\n",
            "\n",
            "         0.0       1.00      1.00      1.00    161910\n",
            "         1.0       1.00      0.99      1.00    104832\n",
            "\n",
            "    accuracy                           1.00    266742\n",
            "   macro avg       1.00      1.00      1.00    266742\n",
            "weighted avg       1.00      1.00      1.00    266742\n",
            "\n"
          ]
        }
      ],
      "source": [
        "print(classification_report(KNN_prediction, y_test))"
      ]
    },
    {
      "cell_type": "code",
      "execution_count": null,
      "metadata": {
        "id": "TTQN-S7stC6X"
      },
      "outputs": [],
      "source": [
        "KNN_model = KNeighborsClassifier(n_neighbors=5)"
      ]
    },
    {
      "cell_type": "code",
      "execution_count": null,
      "metadata": {
        "colab": {
          "base_uri": "https://localhost:8080/"
        },
        "id": "_81OFDDrtC6Z",
        "outputId": "456c6a3e-8bf4-49f2-b736-939615d6e2ad"
      },
      "outputs": [
        {
          "data": {
            "text/plain": [
              "KNeighborsClassifier()"
            ]
          },
          "execution_count": 22,
          "metadata": {},
          "output_type": "execute_result"
        }
      ],
      "source": [
        "KNN_model.fit(x_train, y_train)"
      ]
    },
    {
      "cell_type": "code",
      "execution_count": null,
      "metadata": {
        "id": "gxiGXNWItC6a"
      },
      "outputs": [],
      "source": [
        "KNN_prediction = KNN_model.predict(x_test)"
      ]
    },
    {
      "cell_type": "code",
      "execution_count": null,
      "metadata": {
        "colab": {
          "base_uri": "https://localhost:8080/"
        },
        "id": "dwQM06IEtC6b",
        "outputId": "2af574d5-6995-42f6-d448-9c986db18a59"
      },
      "outputs": [
        {
          "name": "stdout",
          "output_type": "stream",
          "text": [
            "0.9971658006613132\n"
          ]
        }
      ],
      "source": [
        "print(accuracy_score(KNN_prediction, y_test))"
      ]
    },
    {
      "cell_type": "code",
      "execution_count": null,
      "metadata": {
        "colab": {
          "base_uri": "https://localhost:8080/"
        },
        "id": "L-7i3kDNtC6b",
        "outputId": "d7a7505c-2a80-4a97-ff30-25cbd7c83ed5"
      },
      "outputs": [
        {
          "name": "stdout",
          "output_type": "stream",
          "text": [
            "              precision    recall  f1-score   support\n",
            "\n",
            "         0.0       1.00      1.00      1.00    162162\n",
            "         1.0       1.00      1.00      1.00    104580\n",
            "\n",
            "    accuracy                           1.00    266742\n",
            "   macro avg       1.00      1.00      1.00    266742\n",
            "weighted avg       1.00      1.00      1.00    266742\n",
            "\n"
          ]
        }
      ],
      "source": [
        "print(classification_report(KNN_prediction, y_test))"
      ]
    },
    {
      "cell_type": "markdown",
      "metadata": {
        "id": "cIfDJUASpPvD"
      },
      "source": [
        "#Feature Selection"
      ]
    },
    {
      "cell_type": "markdown",
      "metadata": {
        "id": "r9aq0qCsqUV8"
      },
      "source": [
        "##Information Gain"
      ]
    },
    {
      "cell_type": "code",
      "execution_count": null,
      "metadata": {
        "colab": {
          "base_uri": "https://localhost:8080/"
        },
        "id": "uies1pjNpRfX",
        "outputId": "f4c42bca-2a79-4820-dc7a-a7ede8afc5fe"
      },
      "outputs": [
        {
          "data": {
            "text/plain": [
              "array([0.01833259, 0.        , 0.06393163, 0.00094865, 0.00587642,\n",
              "       0.0026249 , 0.01245414, 0.        , 0.00815282, 0.00203607,\n",
              "       0.00509978, 0.02000516, 0.06628315, 0.03125868, 0.22310923,\n",
              "       0.00639131, 0.16491304, 0.0222457 , 0.06137246])"
            ]
          },
          "execution_count": 30,
          "metadata": {},
          "output_type": "execute_result"
        }
      ],
      "source": [
        "from sklearn.feature_selection import mutual_info_classif\n",
        "%matplotlib inline\n",
        "importances=mutual_info_classif(x_train,y_train)\n",
        "importances"
      ]
    },
    {
      "cell_type": "code",
      "execution_count": null,
      "metadata": {
        "colab": {
          "base_uri": "https://localhost:8080/"
        },
        "id": "RZVAUP_BxUTT",
        "outputId": "76badb39-7ee9-4c77-b671-40cd4c6d732e"
      },
      "outputs": [
        {
          "data": {
            "text/plain": [
              "feature 15    0.223109\n",
              "feature 17    0.164913\n",
              "feature 13    0.066283\n",
              "feature 3     0.063932\n",
              "feature 19    0.061372\n",
              "feature 14    0.031259\n",
              "feature 18    0.022246\n",
              "feature 12    0.020005\n",
              "feature 1     0.018333\n",
              "feature 7     0.012454\n",
              "feature 9     0.008153\n",
              "feature 16    0.006391\n",
              "feature 5     0.005876\n",
              "feature 11    0.005100\n",
              "feature 6     0.002625\n",
              "feature 10    0.002036\n",
              "feature 4     0.000949\n",
              "feature 2     0.000000\n",
              "feature 8     0.000000\n",
              "dtype: float64"
            ]
          },
          "execution_count": 31,
          "metadata": {},
          "output_type": "execute_result"
        }
      ],
      "source": [
        "importances=pd.Series(importances)\n",
        "importances.index=x_train.columns\n",
        "importances.sort_values(ascending=False)"
      ]
    },
    {
      "cell_type": "code",
      "execution_count": null,
      "metadata": {
        "colab": {
          "base_uri": "https://localhost:8080/",
          "height": 542
        },
        "id": "6OM5m8ofyPx3",
        "outputId": "0ff22e7f-5bd4-4efe-f516-d8bfbe38257d"
      },
      "outputs": [
        {
          "data": {
            "text/plain": [
              "<matplotlib.axes._subplots.AxesSubplot at 0x7f648e047fd0>"
            ]
          },
          "execution_count": 32,
          "metadata": {},
          "output_type": "execute_result"
        },
        {
          "data": {
            "image/png": "[encoded data removed]",
            "text/plain": [
              "<Figure size 1440x576 with 1 Axes>"
            ]
          },
          "metadata": {},
          "output_type": "display_data"
        }
      ],
      "source": [
        "importances.sort_values(ascending=False).plot.bar(figsize=(20, 8))"
      ]
    },
    {
      "cell_type": "code",
      "execution_count": null,
      "metadata": {
        "colab": {
          "base_uri": "https://localhost:8080/"
        },
        "id": "Irb__anjyZIF",
        "outputId": "b3045732-a892-4c9a-ddf5-5b7916b57ff4"
      },
      "outputs": [
        {
          "data": {
            "text/plain": [
              "Index(['feature 3', 'feature 13', 'feature 15', 'feature 17', 'feature 19'], dtype='object')"
            ]
          },
          "execution_count": 33,
          "metadata": {},
          "output_type": "execute_result"
        }
      ],
      "source": [
        "from sklearn.feature_selection import SelectKBest\n",
        "sel_five_cols = SelectKBest(mutual_info_classif, k=5)\n",
        "sel_five_cols.fit(x_train, y_train)\n",
        "x_train.columns[sel_five_cols.get_support()]"
      ]
    },
    {
      "cell_type": "markdown",
      "metadata": {
        "id": "xzCL6ykVqXFb"
      },
      "source": [
        "##Chi-square Test"
      ]
    },
    {
      "cell_type": "code",
      "execution_count": null,
      "metadata": {
        "colab": {
          "base_uri": "https://localhost:8080/"
        },
        "id": "au7TxoSHp4bY",
        "outputId": "58343e14-299e-455a-b671-800a5146f12d"
      },
      "outputs": [
        {
          "data": {
            "text/plain": [
              "(array([8.36603879e+03, 9.68221548e+00, 2.98341616e+04, 9.23389132e+02,\n",
              "        3.22343833e+03, 9.41613327e+02, 2.47989488e+03, 5.30027209e+00,\n",
              "        3.77498993e+03, 5.05935174e+02, 8.46823776e+02, 9.42464285e+03,\n",
              "        2.98879211e+04, 1.40798969e+04, 1.32278975e+06, 3.53511206e+03,\n",
              "        9.16762223e+02, 1.05894647e+04, 2.78885273e+04]),\n",
              " array([0.00000000e+000, 1.86060144e-003, 0.00000000e+000, 8.07934693e-203,\n",
              "        0.00000000e+000, 8.82689205e-207, 0.00000000e+000, 2.13220934e-002,\n",
              "        0.00000000e+000, 4.85972055e-112, 3.56521377e-186, 0.00000000e+000,\n",
              "        0.00000000e+000, 0.00000000e+000, 0.00000000e+000, 0.00000000e+000,\n",
              "        2.22818904e-201, 0.00000000e+000, 0.00000000e+000]))"
            ]
          },
          "execution_count": 34,
          "metadata": {},
          "output_type": "execute_result"
        }
      ],
      "source": [
        "### chi2 returns 2 values\n",
        "### Fscore and the pvalue\n",
        "from sklearn.feature_selection import chi2\n",
        "f_p_values=chi2(x_train,y_train)\n",
        "f_p_values"
      ]
    },
    {
      "cell_type": "code",
      "execution_count": null,
      "metadata": {
        "colab": {
          "base_uri": "https://localhost:8080/"
        },
        "id": "0BaWRRnBzI9e",
        "outputId": "92ba884c-d703-4f4d-cc1b-662a9e715da2"
      },
      "outputs": [
        {
          "data": {
            "text/plain": [
              "feature 1      0.000000e+00\n",
              "feature 2      1.860601e-03\n",
              "feature 3      0.000000e+00\n",
              "feature 4     8.079347e-203\n",
              "feature 5      0.000000e+00\n",
              "feature 6     8.826892e-207\n",
              "feature 7      0.000000e+00\n",
              "feature 8      2.132209e-02\n",
              "feature 9      0.000000e+00\n",
              "feature 10    4.859721e-112\n",
              "feature 11    3.565214e-186\n",
              "feature 12     0.000000e+00\n",
              "feature 13     0.000000e+00\n",
              "feature 14     0.000000e+00\n",
              "feature 15     0.000000e+00\n",
              "feature 16     0.000000e+00\n",
              "feature 17    2.228189e-201\n",
              "feature 18     0.000000e+00\n",
              "feature 19     0.000000e+00\n",
              "dtype: float64"
            ]
          },
          "execution_count": 35,
          "metadata": {},
          "output_type": "execute_result"
        }
      ],
      "source": [
        "p_values=pd.Series(f_p_values[1])\n",
        "p_values.index=x_train.columns\n",
        "p_values"
      ]
    },
    {
      "cell_type": "code",
      "execution_count": null,
      "metadata": {
        "colab": {
          "base_uri": "https://localhost:8080/"
        },
        "id": "qtH863auzOj-",
        "outputId": "be5cfc7f-3f3c-4a0a-ad9f-a82f7d76242d"
      },
      "outputs": [
        {
          "data": {
            "text/plain": [
              "feature 9      0.000000e+00\n",
              "feature 8      2.132209e-02\n",
              "feature 7      0.000000e+00\n",
              "feature 6     8.826892e-207\n",
              "feature 5      0.000000e+00\n",
              "feature 4     8.079347e-203\n",
              "feature 3      0.000000e+00\n",
              "feature 2      1.860601e-03\n",
              "feature 19     0.000000e+00\n",
              "feature 18     0.000000e+00\n",
              "feature 17    2.228189e-201\n",
              "feature 16     0.000000e+00\n",
              "feature 15     0.000000e+00\n",
              "feature 14     0.000000e+00\n",
              "feature 13     0.000000e+00\n",
              "feature 12     0.000000e+00\n",
              "feature 11    3.565214e-186\n",
              "feature 10    4.859721e-112\n",
              "feature 1      0.000000e+00\n",
              "dtype: float64"
            ]
          },
          "execution_count": 36,
          "metadata": {},
          "output_type": "execute_result"
        }
      ],
      "source": [
        "p_values.sort_index(ascending=False)"
      ]
    },
    {
      "cell_type": "code",
      "execution_count": null,
      "metadata": {
        "colab": {
          "base_uri": "https://localhost:8080/",
          "height": 542
        },
        "id": "egNjeyZWzaBz",
        "outputId": "58c9a33e-0a52-45f7-acd3-05fca51ee9a7"
      },
      "outputs": [
        {
          "data": {
            "text/plain": [
              "<matplotlib.axes._subplots.AxesSubplot at 0x7f648b78fb50>"
            ]
          },
          "execution_count": 37,
          "metadata": {},
          "output_type": "execute_result"
        },
        {
          "data": {
            "image/png": "[encoded data removed]",
            "text/plain": [
              "<Figure size 1440x576 with 1 Axes>"
            ]
          },
          "metadata": {},
          "output_type": "display_data"
        }
      ],
      "source": [
        "p_values.sort_values(ascending=False).plot.bar(figsize=(20, 8))"
      ]
    },
    {
      "cell_type": "markdown",
      "metadata": {
        "id": "vNvFrKLQ0hni"
      },
      "source": [
        "##Forward Feature Selection"
      ]
    },
    {
      "cell_type": "code",
      "execution_count": null,
      "metadata": {
        "id": "XDjL9nU_Yojo"
      },
      "outputs": [],
      "source": [
        "classifier = LogisticRegression(random_state = 0,max_iter=1000)\n",
        "sfs1 = sfs(classifier, n_features_to_select=10,direction='forward')"
      ]
    },
    {
      "cell_type": "code",
      "execution_count": null,
      "metadata": {
        "colab": {
          "base_uri": "https://localhost:8080/"
        },
        "id": "DkDWCVGzZCih",
        "outputId": "5389a17c-627e-4557-bd48-dda9ec421761"
      },
      "outputs": [
        {
          "data": {
            "text/plain": [
              "SequentialFeatureSelector(estimator=LogisticRegression(max_iter=1000,\n",
              "                                                       random_state=0),\n",
              "                          n_features_to_select=10)"
            ]
          },
          "execution_count": 27,
          "metadata": {},
          "output_type": "execute_result"
        }
      ],
      "source": [
        "sfs1.fit(x_train,y_train)"
      ]
    },
    {
      "cell_type": "code",
      "execution_count": null,
      "metadata": {
        "colab": {
          "base_uri": "https://localhost:8080/"
        },
        "id": "AvMsuxSWAn2l",
        "outputId": "a7d50fd9-434a-4775-d170-121e92838de9"
      },
      "outputs": [
        {
          "data": {
            "text/plain": [
              "array(['feature 1', 'feature 5', 'feature 8', 'feature 9', 'feature 10',\n",
              "       'feature 12', 'feature 13', 'feature 15', 'feature 18',\n",
              "       'feature 19'], dtype=object)"
            ]
          },
          "execution_count": 35,
          "metadata": {},
          "output_type": "execute_result"
        }
      ],
      "source": [
        "sfs1.get_feature_names_out(['feature 1','feature 2','feature 3','feature 4','feature 5','feature 6','feature 7','feature 8','feature 9','feature 10','feature 11','feature 12','feature 13','feature 14','feature 15','feature 16','feature 17','feature 18','feature 19'])"
      ]
    },
    {
      "cell_type": "code",
      "execution_count": null,
      "metadata": {
        "id": "dDUCnMS7Zmzc"
      },
      "outputs": [],
      "source": [
        "# # feat_names = list(sfs1.k_feature_names_)\n",
        "# print(feat_names)\n",
        "# # sfs1.get_support()\n",
        "# print(sfs1.get_feature_names_out(input_features=[['feature 1','feature 2','feature 3','feature 4','feature 5','feature 6','feature 7','feature 8','feature 9','feature 10','feature 11','feature 12','feature 13','feature 14','feature 15','feature 16','feature 17','feature 18','feature 19']]))"
      ]
    },
    {
      "cell_type": "code",
      "execution_count": null,
      "metadata": {
        "id": "Bzy2ZQEGZ0gu"
      },
      "outputs": [],
      "source": [
        "classifier = GaussianNB()\n",
        "sfs2 = sfs(classifier, n_features_to_select=10,direction='forward')"
      ]
    },
    {
      "cell_type": "code",
      "execution_count": null,
      "metadata": {
        "colab": {
          "base_uri": "https://localhost:8080/"
        },
        "id": "TzfUrQHteHTl",
        "outputId": "74127309-4488-4e5b-9179-38e8bc5bfddf"
      },
      "outputs": [
        {
          "data": {
            "text/plain": [
              "SequentialFeatureSelector(estimator=GaussianNB(), n_features_to_select=10)"
            ]
          },
          "execution_count": 30,
          "metadata": {},
          "output_type": "execute_result"
        }
      ],
      "source": [
        "sfs2.fit(x_train,y_train)"
      ]
    },
    {
      "cell_type": "code",
      "execution_count": null,
      "metadata": {
        "colab": {
          "base_uri": "https://localhost:8080/"
        },
        "id": "z0AM0sYjd_Rj",
        "outputId": "1f616c43-2681-45ba-9c8c-dfcd567e088e"
      },
      "outputs": [
        {
          "data": {
            "text/plain": [
              "array([False,  True, False, False, False, False,  True,  True,  True,\n",
              "       False,  True,  True,  True,  True,  True, False,  True, False,\n",
              "       False])"
            ]
          },
          "execution_count": 31,
          "metadata": {},
          "output_type": "execute_result"
        }
      ],
      "source": [
        "sfs2.get_support()"
      ]
    },
    {
      "cell_type": "code",
      "execution_count": null,
      "metadata": {
        "colab": {
          "base_uri": "https://localhost:8080/"
        },
        "id": "ZneX3TjteEDj",
        "outputId": "b6a71a35-6ab6-4141-ae0b-df4e1cea08b4"
      },
      "outputs": [
        {
          "data": {
            "text/plain": [
              "array(['feature 2', 'feature 7', 'feature 8', 'feature 9', 'feature 11',\n",
              "       'feature 12', 'feature 13', 'feature 14', 'feature 15',\n",
              "       'feature 17'], dtype=object)"
            ]
          },
          "execution_count": 32,
          "metadata": {},
          "output_type": "execute_result"
        }
      ],
      "source": [
        "sfs2.get_feature_names_out(['feature 1','feature 2','feature 3','feature 4','feature 5','feature 6','feature 7','feature 8','feature 9','feature 10','feature 11','feature 12','feature 13','feature 14','feature 15','feature 16','feature 17','feature 18','feature 19'])"
      ]
    },
    {
      "cell_type": "code",
      "execution_count": null,
      "metadata": {
        "id": "hoyTIzqYe_VB"
      },
      "outputs": [],
      "source": [
        "classifier=RandomForestClassifier(n_estimators=1000)\n",
        "sfs3 = sfs(classifier, n_features_to_select=3,direction='forward')"
      ]
    },
    {
      "cell_type": "code",
      "execution_count": null,
      "metadata": {
        "colab": {
          "base_uri": "https://localhost:8080/"
        },
        "id": "D963RfNPfIdJ",
        "outputId": "152bd594-15c2-42bd-c072-f6f5a5a7ec0e"
      },
      "outputs": [
        {
          "data": {
            "text/plain": [
              "SequentialFeatureSelector(estimator=RandomForestClassifier(n_estimators=1000),\n",
              "                          n_features_to_select=3)"
            ]
          },
          "execution_count": 23,
          "metadata": {},
          "output_type": "execute_result"
        }
      ],
      "source": [
        "sfs3.fit(x_train,y_train)"
      ]
    },
    {
      "cell_type": "code",
      "execution_count": null,
      "metadata": {
        "colab": {
          "base_uri": "https://localhost:8080/"
        },
        "id": "sZ9BEawnfM__",
        "outputId": "11dd9b52-b746-4f6d-e674-8a2b0414e42a"
      },
      "outputs": [
        {
          "data": {
            "text/plain": [
              "array(['feature 7', 'feature 15', 'feature 17'], dtype=object)"
            ]
          },
          "execution_count": 24,
          "metadata": {},
          "output_type": "execute_result"
        }
      ],
      "source": [
        "sfs3.get_feature_names_out(['feature 1','feature 2','feature 3','feature 4','feature 5','feature 6','feature 7','feature 8','feature 9','feature 10','feature 11','feature 12','feature 13','feature 14','feature 15','feature 16','feature 17','feature 18','feature 19'])"
      ]
    },
    {
      "cell_type": "markdown",
      "source": [
        "##Backward Feature Selection technique"
      ],
      "metadata": {
        "id": "X6MmyvREIM6K"
      }
    },
    {
      "cell_type": "code",
      "execution_count": null,
      "metadata": {
        "id": "rTMaYk1jKfjV"
      },
      "outputs": [],
      "source": [
        "classifier = LogisticRegression(random_state = 0,max_iter=1000)\n",
        "s1 = sfs(classifier, n_features_to_select=10,direction='backward')"
      ]
    },
    {
      "cell_type": "code",
      "execution_count": null,
      "metadata": {
        "id": "qSEBx5-CKfje",
        "colab": {
          "base_uri": "https://localhost:8080/"
        },
        "outputId": "0cbfc780-274b-4b9f-e68e-9ccde7d57303"
      },
      "outputs": [
        {
          "output_type": "execute_result",
          "data": {
            "text/plain": [
              "SequentialFeatureSelector(direction='backward',\n",
              "                          estimator=LogisticRegression(max_iter=1000,\n",
              "                                                       random_state=0),\n",
              "                          n_features_to_select=10)"
            ]
          },
          "metadata": {},
          "execution_count": 22
        }
      ],
      "source": [
        "s1.fit(x_train,y_train)"
      ]
    },
    {
      "cell_type": "code",
      "execution_count": null,
      "metadata": {
        "id": "_OQ4bOLGKfjf",
        "colab": {
          "base_uri": "https://localhost:8080/"
        },
        "outputId": "36e7325c-4a77-4ca5-895e-ec424bfe8c6a"
      },
      "outputs": [
        {
          "output_type": "execute_result",
          "data": {
            "text/plain": [
              "array(['feature 1', 'feature 6', 'feature 7', 'feature 9', 'feature 12',\n",
              "       'feature 13', 'feature 15', 'feature 16', 'feature 17',\n",
              "       'feature 18'], dtype=object)"
            ]
          },
          "metadata": {},
          "execution_count": 23
        }
      ],
      "source": [
        "s1.get_feature_names_out(['feature 1','feature 2','feature 3','feature 4','feature 5','feature 6','feature 7','feature 8','feature 9','feature 10','feature 11','feature 12','feature 13','feature 14','feature 15','feature 16','feature 17','feature 18','feature 19'])"
      ]
    },
    {
      "cell_type": "code",
      "execution_count": null,
      "metadata": {
        "id": "gOU-a7kvKt9f"
      },
      "outputs": [],
      "source": [
        "classifier = GaussianNB()\n",
        "s2 = sfs(classifier, n_features_to_select=10,direction='backward')"
      ]
    },
    {
      "cell_type": "code",
      "execution_count": null,
      "metadata": {
        "id": "D8FQLs8BKt9f",
        "colab": {
          "base_uri": "https://localhost:8080/"
        },
        "outputId": "e2975e86-6c2e-4e93-ea78-91ab5616fac2"
      },
      "outputs": [
        {
          "output_type": "execute_result",
          "data": {
            "text/plain": [
              "SequentialFeatureSelector(direction='backward', estimator=GaussianNB(),\n",
              "                          n_features_to_select=10)"
            ]
          },
          "metadata": {},
          "execution_count": 25
        }
      ],
      "source": [
        "s2.fit(x_train,y_train)"
      ]
    },
    {
      "cell_type": "code",
      "execution_count": null,
      "metadata": {
        "id": "fFW0PNtwKt9g",
        "colab": {
          "base_uri": "https://localhost:8080/"
        },
        "outputId": "7d62f776-da1a-4022-ee90-4f7d67fc99b2"
      },
      "outputs": [
        {
          "output_type": "execute_result",
          "data": {
            "text/plain": [
              "array(['feature 1', 'feature 5', 'feature 9', 'feature 10', 'feature 11',\n",
              "       'feature 12', 'feature 13', 'feature 14', 'feature 15',\n",
              "       'feature 17'], dtype=object)"
            ]
          },
          "metadata": {},
          "execution_count": 26
        }
      ],
      "source": [
        "s2.get_feature_names_out(['feature 1','feature 2','feature 3','feature 4','feature 5','feature 6','feature 7','feature 8','feature 9','feature 10','feature 11','feature 12','feature 13','feature 14','feature 15','feature 16','feature 17','feature 18','feature 19'])"
      ]
    },
    {
      "cell_type": "code",
      "execution_count": null,
      "metadata": {
        "id": "DgN6ohhVK3x-"
      },
      "outputs": [],
      "source": [
        "classifier=RandomForestClassifier(n_estimators=1000)\n",
        "s3 = sfs(classifier, n_features_to_select=10,direction='backward')"
      ]
    },
    {
      "cell_type": "code",
      "execution_count": null,
      "metadata": {
        "id": "AluM_ISSK3x-",
        "colab": {
          "base_uri": "https://localhost:8080/",
          "height": 165
        },
        "outputId": "c9c7214a-9158-4dba-e8a8-60874ec96abd"
      },
      "outputs": [
        {
          "output_type": "error",
          "ename": "NameError",
          "evalue": "ignored",
          "traceback": [
            "\u001b[0;31m---------------------------------------------------------------------------\u001b[0m",
            "\u001b[0;31mNameError\u001b[0m                                 Traceback (most recent call last)",
            "\u001b[0;32m<ipython-input-28-ded4fcdebbec>\u001b[0m in \u001b[0;36m<module>\u001b[0;34m()\u001b[0m\n\u001b[0;32m----> 1\u001b[0;31m \u001b[0msfs3\u001b[0m\u001b[0;34m.\u001b[0m\u001b[0mfit\u001b[0m\u001b[0;34m(\u001b[0m\u001b[0mx_train\u001b[0m\u001b[0;34m,\u001b[0m\u001b[0my_train\u001b[0m\u001b[0;34m)\u001b[0m\u001b[0;34m\u001b[0m\u001b[0;34m\u001b[0m\u001b[0m\n\u001b[0m",
            "\u001b[0;31mNameError\u001b[0m: name 'sfs3' is not defined"
          ]
        }
      ],
      "source": [
        "s3.fit(x_train,y_train)"
      ]
    },
    {
      "cell_type": "code",
      "execution_count": null,
      "metadata": {
        "id": "VfsCmytqK3x-"
      },
      "outputs": [],
      "source": [
        "s3.get_feature_names_out(['feature 1','feature 2','feature 3','feature 4','feature 5','feature 6','feature 7','feature 8','feature 9','feature 10','feature 11','feature 12','feature 13','feature 14','feature 15','feature 16','feature 17','feature 18','feature 19'])"
      ]
    },
    {
      "cell_type": "markdown",
      "metadata": {
        "id": "o5CPzN-68wDt"
      },
      "source": [
        "#Classifiers on Feature Selection Process and Statistical Values"
      ]
    },
    {
      "cell_type": "markdown",
      "source": [
        "##Forward Feature Selection of Logistic Regression"
      ],
      "metadata": {
        "id": "TIuGUE7MJTuf"
      }
    },
    {
      "cell_type": "markdown",
      "metadata": {
        "id": "rYF3xFICu1g3"
      },
      "source": [
        "###Forward Feature Selection using Logistic Regression"
      ]
    },
    {
      "cell_type": "code",
      "execution_count": null,
      "metadata": {
        "id": "XXy-_PH784lo"
      },
      "outputs": [],
      "source": [
        "feat=['feature 1', 'feature 5', 'feature 8', 'feature 9', 'feature 10','feature 12', 'feature 13', 'feature 15', 'feature 18','feature 19']\n",
        "ip=[]\n",
        "no_of_features=[]\n",
        "accuracy=[]\n",
        "f1=[]\n",
        "precision=[]\n",
        "recall=[]\n",
        "for i in range(0,10):\n",
        "  ip.append(feat[i])\n",
        "  no_of_features.append(i+1)\n",
        "  X_dataframe=x_train[ip]\n",
        "  classifier = LogisticRegression(random_state = 0,max_iter=1000)\n",
        "  classifier.fit(X_dataframe, y_train)\n",
        "  X_test=x_test[ip]\n",
        "  y_pred = classifier.predict(X_test)\n",
        "  acc=accuracy_score(y_test, y_pred)\n",
        "  f=f1_score(y_test, y_pred)\n",
        "  rec = recall_score(y_test, y_pred)\n",
        "  pre = precision_score(y_test, y_pred)\n",
        "  accuracy.append(acc)\n",
        "  f1.append(f)\n",
        "  precision.append(pre)\n",
        "  recall.append(rec)"
      ]
    },
    {
      "cell_type": "code",
      "execution_count": null,
      "metadata": {
        "colab": {
          "base_uri": "https://localhost:8080/",
          "height": 755
        },
        "id": "-gvSI8qVCa4h",
        "outputId": "cb599842-c5a0-4b3e-b966-95b238002ea3"
      },
      "outputs": [
        {
          "data": {
            "image/png": "[encoded data removed]",
            "text/plain": [
              "<Figure size 1200x800 with 1 Axes>"
            ]
          },
          "metadata": {},
          "output_type": "display_data"
        }
      ],
      "source": [
        "# accuracy\n",
        "plt.figure(dpi=200)\n",
        "plt.xlabel(\"No of Features Selected\")\n",
        "plt.ylabel(\"Statistical Values Achieved\")\n",
        "plt.plot(no_of_features,accuracy)\n",
        "plt.plot(no_of_features,f1)\n",
        "plt.plot(no_of_features,precision)\n",
        "plt.plot(no_of_features,recall)\n",
        "plt.legend(['accuracy','f1','precision','recall'])\n",
        "plt.show()"
      ]
    },
    {
      "cell_type": "markdown",
      "metadata": {
        "id": "L7fiWWCvvITS"
      },
      "source": [
        "###Gaussian Naive Bayes"
      ]
    },
    {
      "cell_type": "code",
      "execution_count": null,
      "metadata": {
        "id": "QmmGP9v4vfpP"
      },
      "outputs": [],
      "source": [
        "feat=['feature 1', 'feature 5', 'feature 8', 'feature 9', 'feature 10','feature 12', 'feature 13', 'feature 15', 'feature 18','feature 19']\n",
        "ip=[]\n",
        "no_of_features=[]\n",
        "accuracy=[]\n",
        "f1=[]\n",
        "precision=[]\n",
        "recall=[]\n",
        "for i in range(0,10):\n",
        "  ip.append(feat[i])\n",
        "  no_of_features.append(i+1)\n",
        "  X_dataframe=x_train[ip]\n",
        "  model=GaussianNB()\n",
        "  model.fit(X_dataframe,y_train)\n",
        "  X_test=x_test[ip]\n",
        "  # y_pred = classifier.predict(X_test)\n",
        "  acc=model.score(X_test,y_test)\n",
        "  # acc=accuracy_score(y_test, y_pred)\n",
        "  # f=f1_score(y_test, y_pred)\n",
        "  # rec = recall_score(y_test, y_pred)\n",
        "  # pre = precision_score(y_test, y_pred)\n",
        "  accuracy.append(acc)\n",
        "  # f1.append(f)\n",
        "  # precision.append(pre)\n",
        "  # recall.append(rec)\n",
        "  # accuracy.append(acc)"
      ]
    },
    {
      "cell_type": "code",
      "execution_count": null,
      "metadata": {
        "colab": {
          "base_uri": "https://localhost:8080/",
          "height": 747
        },
        "id": "Tv08N8jhvfpR",
        "outputId": "49528240-161c-49df-8d4f-dd6d63f127c5"
      },
      "outputs": [
        {
          "data": {
            "image/png": "[encoded data removed]",
            "text/plain": [
              "<Figure size 1200x800 with 1 Axes>"
            ]
          },
          "metadata": {},
          "output_type": "display_data"
        }
      ],
      "source": [
        "# accuracy\n",
        "plt.figure(dpi=200)\n",
        "plt.xlabel(\"No of Features Selected\")\n",
        "plt.ylabel(\"Accuracy Achieved\")\n",
        "plt.plot(no_of_features,accuracy)\n",
        "plt.show()"
      ]
    },
    {
      "cell_type": "markdown",
      "metadata": {
        "id": "YJOPM_SjwC2q"
      },
      "source": [
        "### SVM"
      ]
    },
    {
      "cell_type": "code",
      "execution_count": null,
      "metadata": {
        "id": "BE-J_3OkwIgd"
      },
      "outputs": [],
      "source": [
        "feat=['feature 1', 'feature 5', 'feature 8', 'feature 9', 'feature 10','feature 12', 'feature 13', 'feature 15', 'feature 18','feature 19']\n",
        "ip=[]\n",
        "no_of_features=[]\n",
        "accuracy=[]\n",
        "f1=[]\n",
        "precision=[]\n",
        "recall=[]\n",
        "for i in range(0,10):\n",
        "  ip.append(feat[i])\n",
        "  no_of_features.append(i+1)\n",
        "  X_dataframe=x_train[ip]\n",
        "  svclassifier1 = SVC(kernel='rbf')\n",
        "  svclassifier1.fit(X_dataframe, y_train)\n",
        "  X_test=x_test[ip]\n",
        "  y_pred = svclassifier1.predict(X_test)\n",
        "  acc=accuracy_score(y_test, y_pred)\n",
        "  f=f1_score(y_test, y_pred)\n",
        "  rec = recall_score(y_test, y_pred)\n",
        "  pre = precision_score(y_test, y_pred)\n",
        "  accuracy.append(acc)\n",
        "  f1.append(f)\n",
        "  precision.append(pre)\n",
        "  recall.append(rec)"
      ]
    },
    {
      "cell_type": "code",
      "execution_count": null,
      "metadata": {
        "id": "7WqZUO9KwIgf"
      },
      "outputs": [],
      "source": [
        "# accuracy\n",
        "plt.figure(dpi=200)\n",
        "plt.xlabel(\"No of Features Selected\")\n",
        "plt.ylabel(\"Statistical Values Achieved\")\n",
        "plt.plot(no_of_features,accuracy)\n",
        "plt.plot(no_of_features,f1)\n",
        "plt.plot(no_of_features,precision)\n",
        "plt.plot(no_of_features,recall)\n",
        "plt.legend(['accuracy','f1','precision','recall'])\n",
        "plt.show()"
      ]
    },
    {
      "cell_type": "markdown",
      "metadata": {
        "id": "238am5B3w_bu"
      },
      "source": [
        "###Deep Neural Network"
      ]
    },
    {
      "cell_type": "code",
      "execution_count": null,
      "metadata": {
        "id": "3flw-944xLHE"
      },
      "outputs": [],
      "source": [
        "def func(no_of_features):\n",
        "  input_layer=no_of_features\n",
        "  output_layer=1\n",
        "  hidden_layer=8\n",
        "\n",
        "  model=tf.keras.Sequential([\n",
        "                            tf.keras.layers.Flatten(input_shape=(no_of_features,)),\n",
        "                            tf.keras.layers.Dense(hidden_layer,activation='relu'),\n",
        "                            tf.keras.layers.Dense(hidden_layer,activation='relu'),\n",
        "                            tf.keras.layers.Dense(output_layer,activation='sigmoid'),\n",
        "                            ])\n",
        "\n",
        "  model.compile(optimizer='adam',loss='BinaryCrossentropy',metrics=['accuracy'])\n",
        "  number_of_epochs=10\n",
        "  return model"
      ]
    },
    {
      "cell_type": "code",
      "execution_count": null,
      "metadata": {
        "colab": {
          "base_uri": "https://localhost:8080/"
        },
        "id": "OkX4veNUxGFQ",
        "outputId": "3f980a41-d679-4cc8-91f3-c3fdbf2f44e7"
      },
      "outputs": [
        {
          "output_type": "stream",
          "name": "stdout",
          "text": [
            "Epoch 1/10\n",
            "8336/8336 - 33s - loss: 0.6523 - accuracy: 0.6301 - val_loss: 0.6516 - val_accuracy: 0.6301 - 33s/epoch - 4ms/step\n",
            "Epoch 2/10\n",
            "8336/8336 - 20s - loss: 0.6516 - accuracy: 0.6301 - val_loss: 0.6516 - val_accuracy: 0.6301 - 20s/epoch - 2ms/step\n",
            "Epoch 3/10\n",
            "8336/8336 - 17s - loss: 0.6516 - accuracy: 0.6301 - val_loss: 0.6516 - val_accuracy: 0.6301 - 17s/epoch - 2ms/step\n",
            "Epoch 4/10\n",
            "8336/8336 - 19s - loss: 0.6516 - accuracy: 0.6301 - val_loss: 0.6519 - val_accuracy: 0.6301 - 19s/epoch - 2ms/step\n",
            "Epoch 5/10\n",
            "8336/8336 - 18s - loss: 0.6516 - accuracy: 0.6301 - val_loss: 0.6516 - val_accuracy: 0.6301 - 18s/epoch - 2ms/step\n",
            "Epoch 6/10\n",
            "8336/8336 - 19s - loss: 0.6516 - accuracy: 0.6301 - val_loss: 0.6516 - val_accuracy: 0.6301 - 19s/epoch - 2ms/step\n",
            "Epoch 7/10\n",
            "8336/8336 - 18s - loss: 0.6516 - accuracy: 0.6301 - val_loss: 0.6516 - val_accuracy: 0.6301 - 18s/epoch - 2ms/step\n",
            "Epoch 8/10\n",
            "8336/8336 - 19s - loss: 0.6516 - accuracy: 0.6301 - val_loss: 0.6515 - val_accuracy: 0.6301 - 19s/epoch - 2ms/step\n",
            "Epoch 9/10\n",
            "8336/8336 - 17s - loss: 0.6516 - accuracy: 0.6301 - val_loss: 0.6515 - val_accuracy: 0.6301 - 17s/epoch - 2ms/step\n",
            "Epoch 10/10\n",
            "8336/8336 - 19s - loss: 0.6516 - accuracy: 0.6301 - val_loss: 0.6516 - val_accuracy: 0.6301 - 19s/epoch - 2ms/step\n",
            "Epoch 1/10\n",
            "8336/8336 - 18s - loss: 0.6529 - accuracy: 0.6300 - val_loss: 0.6516 - val_accuracy: 0.6301 - 18s/epoch - 2ms/step\n",
            "Epoch 2/10\n",
            "8336/8336 - 17s - loss: 0.6516 - accuracy: 0.6301 - val_loss: 0.6515 - val_accuracy: 0.6301 - 17s/epoch - 2ms/step\n",
            "Epoch 3/10\n",
            "8336/8336 - 19s - loss: 0.6516 - accuracy: 0.6301 - val_loss: 0.6516 - val_accuracy: 0.6301 - 19s/epoch - 2ms/step\n",
            "Epoch 4/10\n",
            "8336/8336 - 17s - loss: 0.6516 - accuracy: 0.6301 - val_loss: 0.6515 - val_accuracy: 0.6301 - 17s/epoch - 2ms/step\n",
            "Epoch 5/10\n",
            "8336/8336 - 17s - loss: 0.6515 - accuracy: 0.6301 - val_loss: 0.6515 - val_accuracy: 0.6301 - 17s/epoch - 2ms/step\n",
            "Epoch 6/10\n",
            "8336/8336 - 19s - loss: 0.6516 - accuracy: 0.6301 - val_loss: 0.6515 - val_accuracy: 0.6301 - 19s/epoch - 2ms/step\n",
            "Epoch 7/10\n",
            "8336/8336 - 17s - loss: 0.6516 - accuracy: 0.6301 - val_loss: 0.6516 - val_accuracy: 0.6301 - 17s/epoch - 2ms/step\n",
            "Epoch 8/10\n",
            "8336/8336 - 17s - loss: 0.6516 - accuracy: 0.6301 - val_loss: 0.6515 - val_accuracy: 0.6301 - 17s/epoch - 2ms/step\n",
            "Epoch 9/10\n",
            "8336/8336 - 17s - loss: 0.6516 - accuracy: 0.6301 - val_loss: 0.6515 - val_accuracy: 0.6301 - 17s/epoch - 2ms/step\n",
            "Epoch 10/10\n",
            "8336/8336 - 17s - loss: 0.6516 - accuracy: 0.6301 - val_loss: 0.6517 - val_accuracy: 0.6301 - 17s/epoch - 2ms/step\n",
            "Epoch 1/10\n",
            "8336/8336 - 20s - loss: 0.6470 - accuracy: 0.6419 - val_loss: 0.6441 - val_accuracy: 0.6429 - 20s/epoch - 2ms/step\n",
            "Epoch 2/10\n",
            "8336/8336 - 19s - loss: 0.6441 - accuracy: 0.6429 - val_loss: 0.6441 - val_accuracy: 0.6429 - 19s/epoch - 2ms/step\n",
            "Epoch 3/10\n",
            "8336/8336 - 17s - loss: 0.6441 - accuracy: 0.6429 - val_loss: 0.6441 - val_accuracy: 0.6429 - 17s/epoch - 2ms/step\n",
            "Epoch 4/10\n",
            "8336/8336 - 17s - loss: 0.6442 - accuracy: 0.6429 - val_loss: 0.6442 - val_accuracy: 0.6429 - 17s/epoch - 2ms/step\n",
            "Epoch 5/10\n",
            "8336/8336 - 19s - loss: 0.6441 - accuracy: 0.6429 - val_loss: 0.6441 - val_accuracy: 0.6429 - 19s/epoch - 2ms/step\n",
            "Epoch 6/10\n",
            "8336/8336 - 19s - loss: 0.6442 - accuracy: 0.6429 - val_loss: 0.6442 - val_accuracy: 0.6429 - 19s/epoch - 2ms/step\n",
            "Epoch 7/10\n",
            "8336/8336 - 17s - loss: 0.6442 - accuracy: 0.6429 - val_loss: 0.6441 - val_accuracy: 0.6429 - 17s/epoch - 2ms/step\n",
            "Epoch 8/10\n",
            "8336/8336 - 17s - loss: 0.6441 - accuracy: 0.6429 - val_loss: 0.6441 - val_accuracy: 0.6429 - 17s/epoch - 2ms/step\n",
            "Epoch 9/10\n",
            "8336/8336 - 19s - loss: 0.6441 - accuracy: 0.6429 - val_loss: 0.6441 - val_accuracy: 0.6429 - 19s/epoch - 2ms/step\n",
            "Epoch 10/10\n",
            "8336/8336 - 19s - loss: 0.6441 - accuracy: 0.6429 - val_loss: 0.6441 - val_accuracy: 0.6429 - 19s/epoch - 2ms/step\n",
            "Epoch 1/10\n",
            "8336/8336 - 20s - loss: 0.6390 - accuracy: 0.6498 - val_loss: 0.6367 - val_accuracy: 0.6519 - 20s/epoch - 2ms/step\n",
            "Epoch 2/10\n",
            "8336/8336 - 17s - loss: 0.6367 - accuracy: 0.6517 - val_loss: 0.6364 - val_accuracy: 0.6519 - 17s/epoch - 2ms/step\n",
            "Epoch 3/10\n",
            "8336/8336 - 17s - loss: 0.6367 - accuracy: 0.6518 - val_loss: 0.6365 - val_accuracy: 0.6519 - 17s/epoch - 2ms/step\n",
            "Epoch 4/10\n",
            "8336/8336 - 19s - loss: 0.6367 - accuracy: 0.6518 - val_loss: 0.6365 - val_accuracy: 0.6519 - 19s/epoch - 2ms/step\n",
            "Epoch 5/10\n",
            "8336/8336 - 17s - loss: 0.6366 - accuracy: 0.6518 - val_loss: 0.6365 - val_accuracy: 0.6519 - 17s/epoch - 2ms/step\n",
            "Epoch 6/10\n",
            "8336/8336 - 19s - loss: 0.6366 - accuracy: 0.6519 - val_loss: 0.6365 - val_accuracy: 0.6519 - 19s/epoch - 2ms/step\n",
            "Epoch 7/10\n",
            "8336/8336 - 19s - loss: 0.6366 - accuracy: 0.6519 - val_loss: 0.6365 - val_accuracy: 0.6519 - 19s/epoch - 2ms/step\n",
            "Epoch 8/10\n",
            "8336/8336 - 17s - loss: 0.6366 - accuracy: 0.6519 - val_loss: 0.6365 - val_accuracy: 0.6519 - 17s/epoch - 2ms/step\n",
            "Epoch 9/10\n",
            "8336/8336 - 19s - loss: 0.6367 - accuracy: 0.6519 - val_loss: 0.6368 - val_accuracy: 0.6519 - 19s/epoch - 2ms/step\n",
            "Epoch 10/10\n",
            "8336/8336 - 19s - loss: 0.6366 - accuracy: 0.6519 - val_loss: 0.6368 - val_accuracy: 0.6519 - 19s/epoch - 2ms/step\n",
            "Epoch 1/10\n",
            "8336/8336 - 20s - loss: 0.6457 - accuracy: 0.6504 - val_loss: 0.6410 - val_accuracy: 0.6542 - 20s/epoch - 2ms/step\n",
            "Epoch 2/10\n",
            "8336/8336 - 19s - loss: 0.6393 - accuracy: 0.6542 - val_loss: 0.6379 - val_accuracy: 0.6542 - 19s/epoch - 2ms/step\n",
            "Epoch 3/10\n",
            "8336/8336 - 17s - loss: 0.6372 - accuracy: 0.6541 - val_loss: 0.6365 - val_accuracy: 0.6542 - 17s/epoch - 2ms/step\n",
            "Epoch 4/10\n",
            "8336/8336 - 17s - loss: 0.6363 - accuracy: 0.6541 - val_loss: 0.6357 - val_accuracy: 0.6542 - 17s/epoch - 2ms/step\n",
            "Epoch 5/10\n",
            "8336/8336 - 19s - loss: 0.6358 - accuracy: 0.6543 - val_loss: 0.6353 - val_accuracy: 0.6542 - 19s/epoch - 2ms/step\n",
            "Epoch 6/10\n",
            "8336/8336 - 17s - loss: 0.6356 - accuracy: 0.6542 - val_loss: 0.6355 - val_accuracy: 0.6542 - 17s/epoch - 2ms/step\n",
            "Epoch 7/10\n",
            "8336/8336 - 17s - loss: 0.6354 - accuracy: 0.6542 - val_loss: 0.6357 - val_accuracy: 0.6542 - 17s/epoch - 2ms/step\n",
            "Epoch 8/10\n",
            "8336/8336 - 17s - loss: 0.6353 - accuracy: 0.6542 - val_loss: 0.6352 - val_accuracy: 0.6542 - 17s/epoch - 2ms/step\n",
            "Epoch 9/10\n",
            "8336/8336 - 17s - loss: 0.6352 - accuracy: 0.6542 - val_loss: 0.6349 - val_accuracy: 0.6542 - 17s/epoch - 2ms/step\n",
            "Epoch 10/10\n",
            "8336/8336 - 19s - loss: 0.6351 - accuracy: 0.6542 - val_loss: 0.6347 - val_accuracy: 0.6542 - 19s/epoch - 2ms/step\n",
            "Epoch 1/10\n",
            "8336/8336 - 20s - loss: 0.6133 - accuracy: 0.6804 - val_loss: 0.6111 - val_accuracy: 0.6816 - 20s/epoch - 2ms/step\n",
            "Epoch 2/10\n",
            "8336/8336 - 19s - loss: 0.6108 - accuracy: 0.6817 - val_loss: 0.6113 - val_accuracy: 0.6816 - 19s/epoch - 2ms/step\n",
            "Epoch 3/10\n",
            "8336/8336 - 17s - loss: 0.6107 - accuracy: 0.6809 - val_loss: 0.6110 - val_accuracy: 0.6802 - 17s/epoch - 2ms/step\n",
            "Epoch 4/10\n",
            "8336/8336 - 17s - loss: 0.6107 - accuracy: 0.6812 - val_loss: 0.6114 - val_accuracy: 0.6816 - 17s/epoch - 2ms/step\n",
            "Epoch 5/10\n",
            "8336/8336 - 19s - loss: 0.6106 - accuracy: 0.6807 - val_loss: 0.6102 - val_accuracy: 0.6816 - 19s/epoch - 2ms/step\n",
            "Epoch 6/10\n",
            "8336/8336 - 17s - loss: 0.6106 - accuracy: 0.6807 - val_loss: 0.6106 - val_accuracy: 0.6816 - 17s/epoch - 2ms/step\n",
            "Epoch 7/10\n",
            "8336/8336 - 17s - loss: 0.6106 - accuracy: 0.6811 - val_loss: 0.6102 - val_accuracy: 0.6816 - 17s/epoch - 2ms/step\n",
            "Epoch 8/10\n",
            "8336/8336 - 19s - loss: 0.6105 - accuracy: 0.6812 - val_loss: 0.6103 - val_accuracy: 0.6816 - 19s/epoch - 2ms/step\n",
            "Epoch 9/10\n",
            "8336/8336 - 17s - loss: 0.6105 - accuracy: 0.6811 - val_loss: 0.6104 - val_accuracy: 0.6802 - 17s/epoch - 2ms/step\n",
            "Epoch 10/10\n",
            "8336/8336 - 19s - loss: 0.6105 - accuracy: 0.6817 - val_loss: 0.6108 - val_accuracy: 0.6816 - 19s/epoch - 2ms/step\n",
            "Epoch 1/10\n",
            "8336/8336 - 17s - loss: 0.5351 - accuracy: 0.7482 - val_loss: 0.5230 - val_accuracy: 0.7496 - 17s/epoch - 2ms/step\n",
            "Epoch 2/10\n",
            "8336/8336 - 19s - loss: 0.5229 - accuracy: 0.7498 - val_loss: 0.5224 - val_accuracy: 0.7501 - 19s/epoch - 2ms/step\n",
            "Epoch 3/10\n",
            "8336/8336 - 17s - loss: 0.5227 - accuracy: 0.7498 - val_loss: 0.5223 - val_accuracy: 0.7501 - 17s/epoch - 2ms/step\n",
            "Epoch 4/10\n",
            "8336/8336 - 19s - loss: 0.5225 - accuracy: 0.7494 - val_loss: 0.5226 - val_accuracy: 0.7487 - 19s/epoch - 2ms/step\n",
            "Epoch 5/10\n",
            "8336/8336 - 19s - loss: 0.5225 - accuracy: 0.7498 - val_loss: 0.5230 - val_accuracy: 0.7487 - 19s/epoch - 2ms/step\n",
            "Epoch 6/10\n",
            "8336/8336 - 17s - loss: 0.5224 - accuracy: 0.7495 - val_loss: 0.5222 - val_accuracy: 0.7501 - 17s/epoch - 2ms/step\n",
            "Epoch 7/10\n",
            "8336/8336 - 19s - loss: 0.5224 - accuracy: 0.7497 - val_loss: 0.5224 - val_accuracy: 0.7487 - 19s/epoch - 2ms/step\n",
            "Epoch 8/10\n",
            "8336/8336 - 19s - loss: 0.5224 - accuracy: 0.7498 - val_loss: 0.5221 - val_accuracy: 0.7487 - 19s/epoch - 2ms/step\n",
            "Epoch 9/10\n",
            "8336/8336 - 19s - loss: 0.5223 - accuracy: 0.7496 - val_loss: 0.5222 - val_accuracy: 0.7487 - 19s/epoch - 2ms/step\n",
            "Epoch 10/10\n",
            "8336/8336 - 19s - loss: 0.5223 - accuracy: 0.7497 - val_loss: 0.5220 - val_accuracy: 0.7487 - 19s/epoch - 2ms/step\n",
            "Epoch 1/10\n",
            "8336/8336 - 20s - loss: 0.4528 - accuracy: 0.7883 - val_loss: 0.4307 - val_accuracy: 0.7992 - 20s/epoch - 2ms/step\n",
            "Epoch 2/10\n",
            "8336/8336 - 17s - loss: 0.4261 - accuracy: 0.7945 - val_loss: 0.4142 - val_accuracy: 0.8016 - 17s/epoch - 2ms/step\n",
            "Epoch 3/10\n",
            "8336/8336 - 17s - loss: 0.4170 - accuracy: 0.7950 - val_loss: 0.4134 - val_accuracy: 0.8030 - 17s/epoch - 2ms/step\n",
            "Epoch 4/10\n",
            "8336/8336 - 19s - loss: 0.4141 - accuracy: 0.7959 - val_loss: 0.4106 - val_accuracy: 0.8016 - 19s/epoch - 2ms/step\n",
            "Epoch 5/10\n",
            "8336/8336 - 17s - loss: 0.4115 - accuracy: 0.7967 - val_loss: 0.4175 - val_accuracy: 0.7940 - 17s/epoch - 2ms/step\n",
            "Epoch 6/10\n",
            "8336/8336 - 17s - loss: 0.4089 - accuracy: 0.7977 - val_loss: 0.4061 - val_accuracy: 0.8021 - 17s/epoch - 2ms/step\n",
            "Epoch 7/10\n",
            "8336/8336 - 17s - loss: 0.4074 - accuracy: 0.7992 - val_loss: 0.4040 - val_accuracy: 0.8049 - 17s/epoch - 2ms/step\n",
            "Epoch 8/10\n",
            "8336/8336 - 19s - loss: 0.4064 - accuracy: 0.7998 - val_loss: 0.4048 - val_accuracy: 0.8026 - 19s/epoch - 2ms/step\n",
            "Epoch 9/10\n",
            "8336/8336 - 19s - loss: 0.4059 - accuracy: 0.7995 - val_loss: 0.4034 - val_accuracy: 0.7983 - 19s/epoch - 2ms/step\n",
            "Epoch 10/10\n",
            "8336/8336 - 17s - loss: 0.4054 - accuracy: 0.8003 - val_loss: 0.4092 - val_accuracy: 0.7917 - 17s/epoch - 2ms/step\n",
            "Epoch 1/10\n",
            "8336/8336 - 20s - loss: 0.4410 - accuracy: 0.7935 - val_loss: 0.4318 - val_accuracy: 0.7907 - 20s/epoch - 2ms/step\n",
            "Epoch 2/10\n",
            "8336/8336 - 19s - loss: 0.4230 - accuracy: 0.7965 - val_loss: 0.4164 - val_accuracy: 0.7964 - 19s/epoch - 2ms/step\n",
            "Epoch 3/10\n",
            "8336/8336 - 17s - loss: 0.4120 - accuracy: 0.8001 - val_loss: 0.4094 - val_accuracy: 0.8044 - 17s/epoch - 2ms/step\n",
            "Epoch 4/10\n",
            "8336/8336 - 19s - loss: 0.4073 - accuracy: 0.8030 - val_loss: 0.4044 - val_accuracy: 0.8049 - 19s/epoch - 2ms/step\n",
            "Epoch 5/10\n",
            "8336/8336 - 17s - loss: 0.4058 - accuracy: 0.8035 - val_loss: 0.4030 - val_accuracy: 0.8068 - 17s/epoch - 2ms/step\n",
            "Epoch 6/10\n",
            "8336/8336 - 19s - loss: 0.4053 - accuracy: 0.8036 - val_loss: 0.4075 - val_accuracy: 0.8030 - 19s/epoch - 2ms/step\n",
            "Epoch 7/10\n",
            "8336/8336 - 19s - loss: 0.4044 - accuracy: 0.8042 - val_loss: 0.4066 - val_accuracy: 0.8011 - 19s/epoch - 2ms/step\n",
            "Epoch 8/10\n",
            "8336/8336 - 19s - loss: 0.4036 - accuracy: 0.8050 - val_loss: 0.4020 - val_accuracy: 0.8059 - 19s/epoch - 2ms/step\n",
            "Epoch 9/10\n",
            "8336/8336 - 19s - loss: 0.4032 - accuracy: 0.8052 - val_loss: 0.4093 - val_accuracy: 0.8011 - 19s/epoch - 2ms/step\n",
            "Epoch 10/10\n",
            "8336/8336 - 17s - loss: 0.4025 - accuracy: 0.8048 - val_loss: 0.4006 - val_accuracy: 0.8063 - 17s/epoch - 2ms/step\n",
            "Epoch 1/10\n",
            "8336/8336 - 18s - loss: 0.4702 - accuracy: 0.7919 - val_loss: 0.4311 - val_accuracy: 0.7950 - 18s/epoch - 2ms/step\n",
            "Epoch 2/10\n",
            "8336/8336 - 19s - loss: 0.4249 - accuracy: 0.8004 - val_loss: 0.4172 - val_accuracy: 0.8049 - 19s/epoch - 2ms/step\n",
            "Epoch 3/10\n",
            "8336/8336 - 17s - loss: 0.4160 - accuracy: 0.8005 - val_loss: 0.4109 - val_accuracy: 0.8073 - 17s/epoch - 2ms/step\n",
            "Epoch 4/10\n",
            "8336/8336 - 17s - loss: 0.4127 - accuracy: 0.7996 - val_loss: 0.4116 - val_accuracy: 0.8007 - 17s/epoch - 2ms/step\n",
            "Epoch 5/10\n",
            "8336/8336 - 17s - loss: 0.4115 - accuracy: 0.7983 - val_loss: 0.4123 - val_accuracy: 0.7912 - 17s/epoch - 2ms/step\n",
            "Epoch 6/10\n",
            "8336/8336 - 17s - loss: 0.4108 - accuracy: 0.7979 - val_loss: 0.4064 - val_accuracy: 0.8054 - 17s/epoch - 2ms/step\n",
            "Epoch 7/10\n",
            "8336/8336 - 19s - loss: 0.4101 - accuracy: 0.7984 - val_loss: 0.4082 - val_accuracy: 0.8016 - 19s/epoch - 2ms/step\n",
            "Epoch 8/10\n",
            "8336/8336 - 19s - loss: 0.4095 - accuracy: 0.7986 - val_loss: 0.4075 - val_accuracy: 0.8011 - 19s/epoch - 2ms/step\n",
            "Epoch 9/10\n",
            "8336/8336 - 19s - loss: 0.4094 - accuracy: 0.7980 - val_loss: 0.4057 - val_accuracy: 0.8059 - 19s/epoch - 2ms/step\n",
            "Epoch 10/10\n",
            "8336/8336 - 17s - loss: 0.4086 - accuracy: 0.7991 - val_loss: 0.4132 - val_accuracy: 0.7832 - 17s/epoch - 2ms/step\n"
          ]
        }
      ],
      "source": [
        "feat=['feature 1', 'feature 5', 'feature 8', 'feature 9', 'feature 10','feature 12', 'feature 13', 'feature 15', 'feature 18','feature 19']\n",
        "ip=[]\n",
        "no_of_features=[]\n",
        "accuracy=[]\n",
        "f1=[]\n",
        "precision=[]\n",
        "recall=[]\n",
        "for i in range(0,10):\n",
        "  ip.append(feat[i])\n",
        "  no_of_features.append(i+1)\n",
        "  X_dataframe=x_train[ip]\n",
        "  model=func(i+1)\n",
        "  \n",
        "  X_test=x_test[ip]\n",
        "  h=model.fit(X_dataframe,y_train,epochs=10,verbose=2,validation_data=(X_test,y_test))\n",
        "  acc=h.history['val_accuracy'][-1]\n",
        "  accuracy.append(acc)"
      ]
    },
    {
      "cell_type": "code",
      "execution_count": null,
      "metadata": {
        "colab": {
          "base_uri": "https://localhost:8080/",
          "height": 747
        },
        "id": "w25mx2T3zAJH",
        "outputId": "9de38604-ea7d-4852-dd4c-278408270587"
      },
      "outputs": [
        {
          "output_type": "display_data",
          "data": {
            "text/plain": [
              "<Figure size 1200x800 with 1 Axes>"
            ],
            "image/png": "[encoded data removed]"
          },
          "metadata": {
            "needs_background": "light"
          }
        }
      ],
      "source": [
        "# accuracy\n",
        "plt.figure(dpi=200)\n",
        "plt.xlabel(\"No of Features Selected\")\n",
        "plt.ylabel(\"Accuracy Achieved\")\n",
        "plt.plot(no_of_features,accuracy)\n",
        "plt.show()"
      ]
    },
    {
      "cell_type": "code",
      "source": [
        ""
      ],
      "metadata": {
        "id": "4l9BrnliIEIW"
      },
      "execution_count": null,
      "outputs": []
    }
  ],
  "metadata": {
    "colab": {
      "collapsed_sections": [
        "0KxtODykV7Ps",
        "0R_S0x3bWEBc",
        "HHW0KQdKOLSg",
        "A2bEdwgBx7NN",
        "DvPj5kt5ayv0",
        "bBDh2YiAfRcC",
        "Ptc06_HmoWd1",
        "r9aq0qCsqUV8",
        "xzCL6ykVqXFb",
        "vNvFrKLQ0hni",
        "rYF3xFICu1g3",
        "L7fiWWCvvITS",
        "YJOPM_SjwC2q"
      ],
      "name": "Code Fragment Summarisation.ipynb",
      "provenance": []
    },
    "kernelspec": {
      "display_name": "Python 3",
      "name": "python3"
    },
    "language_info": {
      "name": "python"
    }
  },
  "nbformat": 4,
  "nbformat_minor": 0
}